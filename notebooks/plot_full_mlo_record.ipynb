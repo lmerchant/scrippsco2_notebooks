{
  "nbformat": 4,
  "nbformat_minor": 5,
  "metadata": {
    "kernelspec": {
      "display_name": "Python 3 (ipykernel)",
      "language": "python",
      "name": "python3"
    },
    "language_info": {
      "codemirror_mode": {
        "name": "ipython",
        "version": 3
      },
      "file_extension": ".py",
      "mimetype": "text/x-python",
      "name": "python",
      "nbconvert_exporter": "python",
      "pygments_lexer": "ipython3",
      "version": "3.8.5"
    },
    "colab": {
      "name": "plot_full_mlo_record.ipynb",
      "provenance": []
    },
    "widgets": {
      "application/vnd.jupyter.widget-state+json": {
        "282752b4ed0742fab37c86eaeb913d03": {
          "model_module": "@jupyter-widgets/controls",
          "model_name": "ButtonModel",
          "model_module_version": "1.5.0",
          "state": {
            "_view_name": "ButtonView",
            "style": "IPY_MODEL_03679e89312a4bc69a7e0b3956f8f9e7",
            "_dom_classes": [],
            "description": "Download Files",
            "_model_name": "ButtonModel",
            "button_style": "primary",
            "_view_module": "@jupyter-widgets/controls",
            "_model_module_version": "1.5.0",
            "tooltip": "",
            "_view_count": null,
            "disabled": false,
            "_view_module_version": "1.5.0",
            "layout": "IPY_MODEL_496222eed976423fa260d5b9b0c1196a",
            "_model_module": "@jupyter-widgets/controls",
            "icon": ""
          }
        },
        "03679e89312a4bc69a7e0b3956f8f9e7": {
          "model_module": "@jupyter-widgets/controls",
          "model_name": "ButtonStyleModel",
          "model_module_version": "1.5.0",
          "state": {
            "_view_name": "StyleView",
            "_model_name": "ButtonStyleModel",
            "_view_module": "@jupyter-widgets/base",
            "_model_module_version": "1.5.0",
            "_view_count": null,
            "button_color": null,
            "font_weight": "",
            "_view_module_version": "1.2.0",
            "_model_module": "@jupyter-widgets/controls"
          }
        },
        "496222eed976423fa260d5b9b0c1196a": {
          "model_module": "@jupyter-widgets/base",
          "model_name": "LayoutModel",
          "model_module_version": "1.2.0",
          "state": {
            "_view_name": "LayoutView",
            "grid_template_rows": null,
            "right": null,
            "justify_content": null,
            "_view_module": "@jupyter-widgets/base",
            "overflow": null,
            "_model_module_version": "1.2.0",
            "_view_count": null,
            "flex_flow": null,
            "width": null,
            "min_width": null,
            "border": null,
            "align_items": null,
            "bottom": null,
            "_model_module": "@jupyter-widgets/base",
            "top": null,
            "grid_column": null,
            "overflow_y": null,
            "overflow_x": null,
            "grid_auto_flow": null,
            "grid_area": null,
            "grid_template_columns": null,
            "flex": null,
            "_model_name": "LayoutModel",
            "justify_items": null,
            "grid_row": null,
            "max_height": null,
            "align_content": null,
            "visibility": null,
            "align_self": null,
            "height": null,
            "min_height": null,
            "padding": null,
            "grid_auto_rows": null,
            "grid_gap": null,
            "max_width": null,
            "order": null,
            "_view_module_version": "1.2.0",
            "grid_template_areas": null,
            "object_position": null,
            "object_fit": null,
            "grid_auto_columns": null,
            "margin": null,
            "display": null,
            "left": null
          }
        }
      }
    }
  },
  "cells": [
    {
      "cell_type": "markdown",
      "metadata": {
        "id": "d94b83b3"
      },
      "source": [
        "# Plot full record of Mauna Loa in-situ data"
      ],
      "id": "d94b83b3"
    },
    {
      "cell_type": "markdown",
      "metadata": {
        "id": "4a234df0"
      },
      "source": [
        "## Load in Scripps CO2 Program Github Repository"
      ],
      "id": "4a234df0"
    },
    {
      "cell_type": "code",
      "metadata": {
        "id": "aa1cd080"
      },
      "source": [
        "import os\n",
        "os.chdir('/content')\n",
        "CODE_DIR = 'scrippsco2_notebooks'"
      ],
      "id": "aa1cd080",
      "execution_count": null,
      "outputs": []
    },
    {
      "cell_type": "code",
      "metadata": {
        "colab": {
          "base_uri": "https://localhost:8080/"
        },
        "id": "tCS7b-vkhL48",
        "outputId": "fa4d77b0-a527-4656-fad4-fa18d83c4f1c"
      },
      "source": [
        "!git clone https://github.com/lmerchant/scrippsco2_notebooks.git $CODE_DIR\n",
        "%cd $CODE_DIR"
      ],
      "id": "tCS7b-vkhL48",
      "execution_count": null,
      "outputs": [
        {
          "output_type": "stream",
          "name": "stdout",
          "text": [
            "Cloning into 'scrippsco2_notebooks'...\n",
            "remote: Enumerating objects: 56, done.\u001b[K\n",
            "remote: Counting objects: 100% (56/56), done.\u001b[K\n",
            "remote: Compressing objects: 100% (43/43), done.\u001b[K\n",
            "remote: Total 56 (delta 18), reused 34 (delta 8), pack-reused 0\u001b[K\n",
            "Unpacking objects: 100% (56/56), done.\n",
            "/content/scrippsco2_notebooks\n"
          ]
        }
      ]
    },
    {
      "cell_type": "code",
      "metadata": {
        "colab": {
          "base_uri": "https://localhost:8080/"
        },
        "id": "tKR7ApRatr-P",
        "outputId": "447f20f0-b4bb-4be5-f8d2-7ef612ae75eb"
      },
      "source": [
        "# get modifications made on the repo\n",
        "!git pull origin main"
      ],
      "id": "tKR7ApRatr-P",
      "execution_count": null,
      "outputs": [
        {
          "output_type": "stream",
          "name": "stdout",
          "text": [
            "From https://github.com/lmerchant/scrippsco2_notebooks\n",
            " * branch            main       -> FETCH_HEAD\n",
            "Already up to date.\n"
          ]
        }
      ]
    },
    {
      "cell_type": "code",
      "metadata": {
        "id": "0cd61aa7"
      },
      "source": [
        "%matplotlib inline\n",
        "import requests\n",
        "from google.colab import files\n",
        "import pandas as pd\n",
        "import numpy as np\n",
        "import pathlib\n",
        "from datetime import datetime, date\n",
        "from pathlib import Path\n",
        "import matplotlib.image as mpimg\n",
        "import matplotlib.pyplot as plt\n",
        "from matplotlib.pyplot import figure\n",
        "from matplotlib import ticker\n",
        "from matplotlib import font_manager\n",
        "from matplotlib import rc,rcParams\n",
        "from IPython.display import Javascript, display\n",
        "from ipywidgets import widgets"
      ],
      "id": "0cd61aa7",
      "execution_count": null,
      "outputs": []
    },
    {
      "cell_type": "markdown",
      "metadata": {
        "id": "jBxuKrH8ict1"
      },
      "source": [
        "### Configure the following to use Latex fonts"
      ],
      "id": "jBxuKrH8ict1"
    },
    {
      "cell_type": "markdown",
      "metadata": {
        "id": "e5a5c538"
      },
      "source": [
        "### Load in plotting functions"
      ],
      "id": "e5a5c538"
    },
    {
      "cell_type": "code",
      "metadata": {
        "id": "d00fd81b"
      },
      "source": [
        "from utils import get_dates, configure_plots"
      ],
      "id": "d00fd81b",
      "execution_count": null,
      "outputs": []
    },
    {
      "cell_type": "markdown",
      "metadata": {
        "id": "0ee378f8"
      },
      "source": [
        "### Set directories and file names for data,  plot, and logo"
      ],
      "id": "0ee378f8"
    },
    {
      "cell_type": "code",
      "metadata": {
        "id": "804adc16"
      },
      "source": [
        "insitu_data_dir = 'https://scrippsco2.ucsd.edu/assets/data/atmospheric/stations/in_situ_co2/'\n",
        "\n",
        "plot_dir = pathlib.Path('./plots')\n",
        "plot_dir.mkdir(exist_ok=True)\n",
        "\n",
        "monthly_mlo = 'monthly/monthly_in_situ_co2_mlo.csv'\n",
        "data_file = f\"{insitu_data_dir}/{monthly_mlo}\" \n",
        "\n",
        "pdf_file = plot_dir / 'mlo_record.pdf'\n",
        "png_file = plot_dir / 'mlo_record.png'\n",
        "\n",
        "logo_dir = './images'\n",
        "logo_file  = pathlib.Path(logo_dir) /  'sio_logo.png'"
      ],
      "id": "804adc16",
      "execution_count": null,
      "outputs": []
    },
    {
      "cell_type": "markdown",
      "metadata": {
        "id": "1f5ae169"
      },
      "source": [
        "### Get today's date"
      ],
      "id": "1f5ae169"
    },
    {
      "cell_type": "code",
      "metadata": {
        "id": "ec5051ae"
      },
      "source": [
        "todays_date_moyr, todays_date_modyyr, today_decimal, todays_year = get_dates.get_todays_date()"
      ],
      "id": "ec5051ae",
      "execution_count": null,
      "outputs": []
    },
    {
      "cell_type": "markdown",
      "metadata": {
        "id": "da386a8b"
      },
      "source": [
        "### Set plot limits and text"
      ],
      "id": "da386a8b"
    },
    {
      "cell_type": "code",
      "metadata": {
        "id": "40aeff39"
      },
      "source": [
        "xmin = 1957\n",
        "xmax = todays_year + 2\n",
        "\n",
        "ymin = 310\n",
        "ymax = 425"
      ],
      "id": "40aeff39",
      "execution_count": null,
      "outputs": []
    },
    {
      "cell_type": "code",
      "metadata": {
        "id": "e93db534"
      },
      "source": [
        "xlabel = 'Year'\n",
        "ylabel = '$\\mathregular{CO_2}$ Concentration (ppm)'\n",
        "\n",
        "title1 = 'Mauna Loa Observatory, Hawaii'\n",
        "title2 = 'Monthly Average Carbon Dioxide Concentration'\n",
        "title3 = f'Data from Scripps CO$_2$ Program     Last updated {todays_date_moyr}'"
      ],
      "id": "e93db534",
      "execution_count": null,
      "outputs": []
    },
    {
      "cell_type": "markdown",
      "metadata": {
        "id": "e845a189"
      },
      "source": [
        "## Load in Data and process"
      ],
      "id": "e845a189"
    },
    {
      "cell_type": "markdown",
      "metadata": {
        "id": "zVfCEMzt3klz"
      },
      "source": [
        "### Fix bad security certificate for scrippsco2.ucsd.edu"
      ],
      "id": "zVfCEMzt3klz"
    },
    {
      "cell_type": "code",
      "metadata": {
        "id": "HrRWn_UR3h0H"
      },
      "source": [
        "import ssl\n",
        "\n",
        "ssl._create_default_https_context = ssl._create_unverified_context"
      ],
      "id": "HrRWn_UR3h0H",
      "execution_count": null,
      "outputs": []
    },
    {
      "cell_type": "code",
      "metadata": {
        "colab": {
          "base_uri": "https://localhost:8080/",
          "height": 204
        },
        "id": "2764b8ff",
        "outputId": "d55d9733-4680-489a-cc9b-396bef36ee17"
      },
      "source": [
        "df = pd.read_csv(data_file,sep=',',comment='\"')\n",
        "df.head()"
      ],
      "id": "2764b8ff",
      "execution_count": null,
      "outputs": [
        {
          "output_type": "execute_result",
          "data": {
            "text/html": [
              "<div>\n",
              "<style scoped>\n",
              "    .dataframe tbody tr th:only-of-type {\n",
              "        vertical-align: middle;\n",
              "    }\n",
              "\n",
              "    .dataframe tbody tr th {\n",
              "        vertical-align: top;\n",
              "    }\n",
              "\n",
              "    .dataframe thead th {\n",
              "        text-align: right;\n",
              "    }\n",
              "</style>\n",
              "<table border=\"1\" class=\"dataframe\">\n",
              "  <thead>\n",
              "    <tr style=\"text-align: right;\">\n",
              "      <th></th>\n",
              "      <th>Yr</th>\n",
              "      <th>Mn</th>\n",
              "      <th>Date</th>\n",
              "      <th>Date</th>\n",
              "      <th>CO2</th>\n",
              "      <th>seasonally</th>\n",
              "      <th>fit</th>\n",
              "      <th>seasonally</th>\n",
              "      <th>CO2</th>\n",
              "      <th>seasonally</th>\n",
              "    </tr>\n",
              "  </thead>\n",
              "  <tbody>\n",
              "    <tr>\n",
              "      <th>0</th>\n",
              "      <td></td>\n",
              "      <td></td>\n",
              "      <td></td>\n",
              "      <td></td>\n",
              "      <td></td>\n",
              "      <td>adjusted</td>\n",
              "      <td></td>\n",
              "      <td>adjusted fit</td>\n",
              "      <td>filled</td>\n",
              "      <td>adjusted filled</td>\n",
              "    </tr>\n",
              "    <tr>\n",
              "      <th>1</th>\n",
              "      <td></td>\n",
              "      <td></td>\n",
              "      <td>Excel</td>\n",
              "      <td></td>\n",
              "      <td>[ppm]</td>\n",
              "      <td>[ppm]</td>\n",
              "      <td>[ppm]</td>\n",
              "      <td>[ppm]</td>\n",
              "      <td>[ppm]</td>\n",
              "      <td>[ppm]</td>\n",
              "    </tr>\n",
              "    <tr>\n",
              "      <th>2</th>\n",
              "      <td>1958</td>\n",
              "      <td>01</td>\n",
              "      <td>21200</td>\n",
              "      <td>1958.0411</td>\n",
              "      <td>-99.99</td>\n",
              "      <td>-99.99</td>\n",
              "      <td>-99.99</td>\n",
              "      <td>-99.99</td>\n",
              "      <td>-99.99</td>\n",
              "      <td>-99.99</td>\n",
              "    </tr>\n",
              "    <tr>\n",
              "      <th>3</th>\n",
              "      <td>1958</td>\n",
              "      <td>02</td>\n",
              "      <td>21231</td>\n",
              "      <td>1958.1260</td>\n",
              "      <td>-99.99</td>\n",
              "      <td>-99.99</td>\n",
              "      <td>-99.99</td>\n",
              "      <td>-99.99</td>\n",
              "      <td>-99.99</td>\n",
              "      <td>-99.99</td>\n",
              "    </tr>\n",
              "    <tr>\n",
              "      <th>4</th>\n",
              "      <td>1958</td>\n",
              "      <td>03</td>\n",
              "      <td>21259</td>\n",
              "      <td>1958.2027</td>\n",
              "      <td>315.71</td>\n",
              "      <td>314.44</td>\n",
              "      <td>316.20</td>\n",
              "      <td>314.91</td>\n",
              "      <td>315.71</td>\n",
              "      <td>314.44</td>\n",
              "    </tr>\n",
              "  </tbody>\n",
              "</table>\n",
              "</div>"
            ],
            "text/plain": [
              "     Yr   Mn      Date  ...    seasonally           CO2       seasonally\n",
              "0                       ...  adjusted fit        filled  adjusted filled\n",
              "1                Excel  ...         [ppm]         [ppm]            [ppm]\n",
              "2  1958   01     21200  ...        -99.99        -99.99           -99.99\n",
              "3  1958   02     21231  ...        -99.99        -99.99           -99.99\n",
              "4  1958   03     21259  ...        314.91        315.71           314.44\n",
              "\n",
              "[5 rows x 10 columns]"
            ]
          },
          "metadata": {},
          "execution_count": 13
        }
      ]
    },
    {
      "cell_type": "code",
      "metadata": {
        "id": "81GUfNQd0I-o"
      },
      "source": [
        ""
      ],
      "id": "81GUfNQd0I-o",
      "execution_count": null,
      "outputs": []
    },
    {
      "cell_type": "markdown",
      "metadata": {
        "id": "4d4b7e96"
      },
      "source": [
        "### Remove next two rows containing header information and change to numeric vals"
      ],
      "id": "4d4b7e96"
    },
    {
      "cell_type": "code",
      "metadata": {
        "id": "308138b6"
      },
      "source": [
        "df = df.iloc[2:]\n",
        "df = df.apply(pd.to_numeric)"
      ],
      "id": "308138b6",
      "execution_count": null,
      "outputs": []
    },
    {
      "cell_type": "markdown",
      "metadata": {
        "id": "b4b8a9af"
      },
      "source": [
        "### Rename column names to replace duplicate names"
      ],
      "id": "b4b8a9af"
    },
    {
      "cell_type": "code",
      "metadata": {
        "colab": {
          "base_uri": "https://localhost:8080/",
          "height": 224
        },
        "id": "17599b5f",
        "outputId": "345ba26e-1b29-4f6e-8d1b-023f5f4038f0"
      },
      "source": [
        "col_mapping ={df.columns[0]:'year', df.columns[1]: 'month', df.columns[2]: 'excel_date', \n",
        "              df.columns[3]: 'dec_date', df.columns[4]: 'co2', df.columns[5]: 'co2_seasonal',\n",
        "              df.columns[6]: 'co2_fit', df.columns[7]: 'co2_seasonal_fit', \n",
        "              df.columns[8]:'co2_filled', df.columns[9]: 'co2_seasonal_filled'}\n",
        "df = df.rename(columns=col_mapping)\n",
        "df.head()"
      ],
      "id": "17599b5f",
      "execution_count": null,
      "outputs": [
        {
          "output_type": "execute_result",
          "data": {
            "text/html": [
              "<div>\n",
              "<style scoped>\n",
              "    .dataframe tbody tr th:only-of-type {\n",
              "        vertical-align: middle;\n",
              "    }\n",
              "\n",
              "    .dataframe tbody tr th {\n",
              "        vertical-align: top;\n",
              "    }\n",
              "\n",
              "    .dataframe thead th {\n",
              "        text-align: right;\n",
              "    }\n",
              "</style>\n",
              "<table border=\"1\" class=\"dataframe\">\n",
              "  <thead>\n",
              "    <tr style=\"text-align: right;\">\n",
              "      <th></th>\n",
              "      <th>year</th>\n",
              "      <th>month</th>\n",
              "      <th>excel_date</th>\n",
              "      <th>dec_date</th>\n",
              "      <th>co2</th>\n",
              "      <th>co2_seasonal</th>\n",
              "      <th>co2_fit</th>\n",
              "      <th>co2_seasonal_fit</th>\n",
              "      <th>co2_filled</th>\n",
              "      <th>co2_seasonal_filled</th>\n",
              "    </tr>\n",
              "  </thead>\n",
              "  <tbody>\n",
              "    <tr>\n",
              "      <th>2</th>\n",
              "      <td>1958</td>\n",
              "      <td>1</td>\n",
              "      <td>21200</td>\n",
              "      <td>1958.0411</td>\n",
              "      <td>-99.99</td>\n",
              "      <td>-99.99</td>\n",
              "      <td>-99.99</td>\n",
              "      <td>-99.99</td>\n",
              "      <td>-99.99</td>\n",
              "      <td>-99.99</td>\n",
              "    </tr>\n",
              "    <tr>\n",
              "      <th>3</th>\n",
              "      <td>1958</td>\n",
              "      <td>2</td>\n",
              "      <td>21231</td>\n",
              "      <td>1958.1260</td>\n",
              "      <td>-99.99</td>\n",
              "      <td>-99.99</td>\n",
              "      <td>-99.99</td>\n",
              "      <td>-99.99</td>\n",
              "      <td>-99.99</td>\n",
              "      <td>-99.99</td>\n",
              "    </tr>\n",
              "    <tr>\n",
              "      <th>4</th>\n",
              "      <td>1958</td>\n",
              "      <td>3</td>\n",
              "      <td>21259</td>\n",
              "      <td>1958.2027</td>\n",
              "      <td>315.71</td>\n",
              "      <td>314.44</td>\n",
              "      <td>316.20</td>\n",
              "      <td>314.91</td>\n",
              "      <td>315.71</td>\n",
              "      <td>314.44</td>\n",
              "    </tr>\n",
              "    <tr>\n",
              "      <th>5</th>\n",
              "      <td>1958</td>\n",
              "      <td>4</td>\n",
              "      <td>21290</td>\n",
              "      <td>1958.2877</td>\n",
              "      <td>317.45</td>\n",
              "      <td>315.16</td>\n",
              "      <td>317.30</td>\n",
              "      <td>314.99</td>\n",
              "      <td>317.45</td>\n",
              "      <td>315.16</td>\n",
              "    </tr>\n",
              "    <tr>\n",
              "      <th>6</th>\n",
              "      <td>1958</td>\n",
              "      <td>5</td>\n",
              "      <td>21320</td>\n",
              "      <td>1958.3699</td>\n",
              "      <td>317.51</td>\n",
              "      <td>314.71</td>\n",
              "      <td>317.87</td>\n",
              "      <td>315.07</td>\n",
              "      <td>317.51</td>\n",
              "      <td>314.71</td>\n",
              "    </tr>\n",
              "  </tbody>\n",
              "</table>\n",
              "</div>"
            ],
            "text/plain": [
              "   year  month  excel_date  ...  co2_seasonal_fit  co2_filled  co2_seasonal_filled\n",
              "2  1958      1       21200  ...            -99.99      -99.99               -99.99\n",
              "3  1958      2       21231  ...            -99.99      -99.99               -99.99\n",
              "4  1958      3       21259  ...            314.91      315.71               314.44\n",
              "5  1958      4       21290  ...            314.99      317.45               315.16\n",
              "6  1958      5       21320  ...            315.07      317.51               314.71\n",
              "\n",
              "[5 rows x 10 columns]"
            ]
          },
          "metadata": {},
          "execution_count": 15
        }
      ]
    },
    {
      "cell_type": "markdown",
      "metadata": {
        "id": "9792df54"
      },
      "source": [
        "### Break into 2 dataframes. One for CO2 and one for the CO2 spline\n",
        "The decimal date is the midpoint of each month"
      ],
      "id": "9792df54"
    },
    {
      "cell_type": "code",
      "metadata": {
        "id": "6b167c31"
      },
      "source": [
        "df_co2 = df[['dec_date', 'co2']].copy()\n",
        "df_co2_spline = df[['dec_date', 'co2_fit']].copy()"
      ],
      "id": "6b167c31",
      "execution_count": null,
      "outputs": []
    },
    {
      "cell_type": "markdown",
      "metadata": {
        "id": "37e7857d"
      },
      "source": [
        "### Remove CO2 rows and CO2 spline rows with fill values -99.99"
      ],
      "id": "37e7857d"
    },
    {
      "cell_type": "code",
      "metadata": {
        "scrolled": true,
        "id": "5b917a69"
      },
      "source": [
        "df_co2 = df_co2[df_co2['co2'] != -99.99]\n",
        "df_co2_spline = df_co2_spline[df_co2_spline['co2_fit'] != -99.99]"
      ],
      "id": "5b917a69",
      "execution_count": null,
      "outputs": []
    },
    {
      "cell_type": "markdown",
      "metadata": {
        "id": "85ab8af4"
      },
      "source": [
        "### Convert to numpy arrays for plotting"
      ],
      "id": "85ab8af4"
    },
    {
      "cell_type": "code",
      "metadata": {
        "id": "18a3a46c"
      },
      "source": [
        "date_co2 = df_co2['dec_date'].to_numpy()\n",
        "co2 = df_co2['co2'].to_numpy()\n",
        "date_co2_spline = df_co2_spline['dec_date'].to_numpy()\n",
        "co2_spline = df_co2_spline['co2_fit'].to_numpy()"
      ],
      "id": "18a3a46c",
      "execution_count": null,
      "outputs": []
    },
    {
      "cell_type": "markdown",
      "metadata": {
        "id": "0645354e"
      },
      "source": [
        "# Create  Plot"
      ],
      "id": "0645354e"
    },
    {
      "cell_type": "markdown",
      "metadata": {
        "id": "71rMJz01OUDo"
      },
      "source": [
        "### Get todays date"
      ],
      "id": "71rMJz01OUDo"
    },
    {
      "cell_type": "code",
      "metadata": {
        "id": "zG99l_LTW4-j"
      },
      "source": [
        "def get_todays_date():\n",
        "\n",
        "    # Get variations of todays date\n",
        "\n",
        "    def dt_to_dec(dt):\n",
        "        \"\"\"Convert a datetime to decimal year.\"\"\"\n",
        "        year_start = datetime(dt.year, 1, 1)\n",
        "        year_end = year_start.replace(year=dt.year+1)\n",
        "        return dt.year + (dt - year_start) / (year_end - year_start)\n",
        "\n",
        "    today = date.today()\n",
        "    today_with_time = datetime(\n",
        "        year=today.year, month=today.month, day=today.day)\n",
        "\n",
        "    today_decimal = dt_to_dec(today_with_time)\n",
        "\n",
        "    todays_day = today.day\n",
        "    todays_month = today.strftime(\"%B\")\n",
        "    todays_year = today.year\n",
        "    todays_date_moyr = today.strftime(\"%B %Y\")\n",
        "    todays_date_modyyr = f\"{todays_month} {todays_day}, {todays_year}\"\n",
        "\n",
        "    return todays_date_moyr, todays_date_modyyr, today_decimal, todays_year"
      ],
      "id": "zG99l_LTW4-j",
      "execution_count": 251,
      "outputs": []
    },
    {
      "cell_type": "markdown",
      "metadata": {
        "id": "M1b68HyOXGZ9"
      },
      "source": [
        "### Get archive date from file"
      ],
      "id": "M1b68HyOXGZ9"
    },
    {
      "cell_type": "code",
      "metadata": {
        "id": "YcnTewORXNEi"
      },
      "source": [
        "def get_file_archive_date(data_file):\n",
        "\n",
        "    # Sample archive line from file\n",
        "    # \" Baseline data in this file through 01-Jul-2021 from archive dated 02-Jul-2021 09:04:47    \"\n",
        "\n",
        "    pattern_archive = re.compile(\"archive\")\n",
        "    pattern_archive_date = re.compile(r'archive dated (\\d\\d-\\w{3}-\\d\\d\\d\\d)')\n",
        "\n",
        "    for line in open(data_file):\n",
        "        for match in re.finditer(pattern_archive, line):\n",
        "            m = pattern_archive_date.search(line)\n",
        "            archive_date = m.group(1)\n",
        "            archive_datetime = datetime.strptime(archive_date, '%d-%b-%Y')\n",
        "            # Reformat to Month name Month day, Month year\n",
        "            month = archive_datetime.strftime(\"%B\")\n",
        "            archive_date = f\"{month} {archive_datetime.day}, {archive_datetime.year}\"\n",
        "            break\n",
        "\n",
        "    return archive_date"
      ],
      "id": "YcnTewORXNEi",
      "execution_count": null,
      "outputs": []
    },
    {
      "cell_type": "markdown",
      "metadata": {
        "id": "EkwHrCpvL9nP"
      },
      "source": [
        "### Set plot limits"
      ],
      "id": "EkwHrCpvL9nP"
    },
    {
      "cell_type": "code",
      "metadata": {
        "id": "bTpSmcUNOHqQ"
      },
      "source": [
        "todays_date_moyr, todays_date_modyyr, today_decimal, todays_year = get_todays_date()\n",
        "\n",
        "xmin = 1957\n",
        "xmax = todays_year + 2\n",
        "\n",
        "ymin = 310\n",
        "ymax = 425"
      ],
      "id": "bTpSmcUNOHqQ",
      "execution_count": 254,
      "outputs": []
    },
    {
      "cell_type": "markdown",
      "metadata": {
        "id": "DYbo3GpPXgyT"
      },
      "source": [
        "### Set plot labels"
      ],
      "id": "DYbo3GpPXgyT"
    },
    {
      "cell_type": "code",
      "metadata": {
        "id": "-S9TIMg8Xn7y",
        "outputId": "f4fc86c2-3524-471b-fadc-c4d13de10bd1",
        "colab": {
          "base_uri": "https://localhost:8080/"
        }
      },
      "source": [
        "xlabel = 'Year'\n",
        "ylabel = '$\\mathregular{CO_2}$ Concentration (ppm)'\n",
        "\n",
        "ax.set_xlabel(xlabel, fontsize=21, fontweight=400, labelpad=8)\n",
        "ax.set_ylabel(ylabel, fontsize=21, fontweight=400, labelpad=8)"
      ],
      "id": "-S9TIMg8Xn7y",
      "execution_count": 249,
      "outputs": [
        {
          "output_type": "execute_result",
          "data": {
            "text/plain": [
              "Text(30.200000000000003, 0.5, '$\\\\mathregular{CO_2}$ Concentration (ppm)')"
            ]
          },
          "metadata": {},
          "execution_count": 249
        }
      ]
    },
    {
      "cell_type": "markdown",
      "metadata": {
        "id": "3Fg42HUuYezW"
      },
      "source": [
        "### Set plot ticks and axis properties"
      ],
      "id": "3Fg42HUuYezW"
    },
    {
      "cell_type": "code",
      "metadata": {
        "id": "mJUoztEzYnZ1"
      },
      "source": [
        "def set_axis_tick_props(fig, ax, xmin, xmax, ymin, ymax):\n",
        "\n",
        "    # activate latex text rendering\n",
        "    rc('axes', linewidth=1)\n",
        "\n",
        "    ax.set_xlim(xmin, xmax)\n",
        "    ax.set_ylim(ymin, ymax)\n",
        "    \n",
        "    # Set tick labels font\n",
        "    rcParams.update({\n",
        "      'font.family':'sans-serif',\n",
        "      'font.weight':'bold',\n",
        "      'font.sans-serif':['Liberation Sans', 'DejaVu Sans']\n",
        "    })\n",
        "        \n",
        "    ax.tick_params(which='both', bottom=True, top=True, left=True, right=True)\n",
        "\n",
        "    ax.tick_params(axis='x', labelsize=14)\n",
        "    ax.tick_params(axis='y', labelsize=16)\n",
        "\n",
        "    ax.tick_params(which='major', direction='in', length=9, width=1)\n",
        "\n",
        "    xaxis_tick_spacing = 5\n",
        "    ax.xaxis.set_major_locator(ticker.MultipleLocator(xaxis_tick_spacing))\n",
        "\n",
        "    yaxis_tick_spacing = 5\n",
        "    ax.yaxis.set_major_locator(ticker.MultipleLocator(yaxis_tick_spacing))\n",
        "\n",
        "    # Display every other y major tick label\n",
        "    for label in ax.yaxis.get_ticklabels()[::2]:\n",
        "        label.set_visible(False)\n",
        "\n",
        "    ax.tick_params(which='minor', direction='in', length=4)\n",
        "    ax.xaxis.set_minor_locator(ticker.AutoMinorLocator(5))\n",
        "    ax.yaxis.set_minor_locator(ticker.AutoMinorLocator(5))"
      ],
      "id": "mJUoztEzYnZ1",
      "execution_count": null,
      "outputs": []
    },
    {
      "cell_type": "markdown",
      "metadata": {
        "id": "TgvoaalOYnZ1"
      },
      "source": [
        "### Set plot titles"
      ],
      "id": "TgvoaalOYnZ1"
    },
    {
      "cell_type": "code",
      "metadata": {
        "id": "UTIyy-ClY8fg"
      },
      "source": [
        "def add_3_plot_titles(fig, ax, title1, title2, title3):\n",
        "\n",
        "    # Allow room at top for the 3 titles\n",
        "    fig.subplots_adjust(top=0.85)\n",
        "\n",
        "    # Set font properties\n",
        "    rcParams.update({\n",
        "      'font.family':'sans-serif',\n",
        "      'font.weight':'bold',\n",
        "      'font.sans-serif':['Liberation Sans', 'DejaVu Sans']\n",
        "    })\n",
        "\n",
        "    # position titles above plot\n",
        "    ax.annotate(title1, xy=(0, 1.15), xycoords='axes fraction', fontsize=21,\n",
        "                horizontalalignment='left', verticalalignment='top')\n",
        "    ax.annotate(title2, xy=(0, 1.095), xycoords='axes fraction', fontsize=21,\n",
        "                horizontalalignment='left', verticalalignment='top')\n",
        "    ax.annotate(title3, xy=(0, 1.04), xycoords='axes fraction', fontsize=12, fontweight='normal',\n",
        "                horizontalalignment='left', verticalalignment='top')"
      ],
      "id": "UTIyy-ClY8fg",
      "execution_count": null,
      "outputs": []
    },
    {
      "cell_type": "code",
      "metadata": {
        "colab": {
          "base_uri": "https://localhost:8080/"
        },
        "id": "Y8NPp9Sf_We8",
        "outputId": "417bd294-2f3d-43e9-a637-0597ee3cd227"
      },
      "source": [
        " !fc-list"
      ],
      "id": "Y8NPp9Sf_We8",
      "execution_count": 255,
      "outputs": [
        {
          "output_type": "stream",
          "name": "stdout",
          "text": [
            "/usr/share/fonts/truetype/liberation/LiberationSansNarrow-Italic.ttf: Liberation Sans Narrow:style=Italic\n",
            "/usr/share/fonts/truetype/liberation/LiberationSans-Regular.ttf: Liberation Sans:style=Regular\n",
            "/usr/share/fonts/truetype/liberation/LiberationMono-BoldItalic.ttf: Liberation Mono:style=Bold Italic\n",
            "/usr/share/fonts/truetype/liberation/LiberationSerif-Italic.ttf: Liberation Serif:style=Italic\n",
            "/usr/share/fonts/truetype/liberation/LiberationMono-Bold.ttf: Liberation Mono:style=Bold\n",
            "/usr/share/fonts/truetype/liberation/LiberationSansNarrow-Regular.ttf: Liberation Sans Narrow:style=Regular\n",
            "/usr/share/fonts/truetype/liberation/LiberationSerif-Bold.ttf: Liberation Serif:style=Bold\n",
            "/usr/share/fonts/truetype/liberation/LiberationMono-Regular.ttf: Liberation Mono:style=Regular\n",
            "/usr/share/fonts/truetype/liberation/LiberationSans-Italic.ttf: Liberation Sans:style=Italic\n",
            "/usr/share/fonts/truetype/liberation/LiberationSerif-BoldItalic.ttf: Liberation Serif:style=Bold Italic\n",
            "/usr/share/fonts/truetype/liberation/LiberationSansNarrow-BoldItalic.ttf: Liberation Sans Narrow:style=Bold Italic\n",
            "/usr/share/fonts/truetype/liberation/LiberationMono-Italic.ttf: Liberation Mono:style=Italic\n",
            "/usr/share/fonts/truetype/liberation/LiberationSans-BoldItalic.ttf: Liberation Sans:style=Bold Italic\n",
            "/usr/share/fonts/truetype/liberation/LiberationSerif-Regular.ttf: Liberation Serif:style=Regular\n",
            "/usr/share/fonts/truetype/liberation/LiberationSansNarrow-Bold.ttf: Liberation Sans Narrow:style=Bold\n",
            "/usr/share/fonts/truetype/liberation/LiberationSans-Bold.ttf: Liberation Sans:style=Bold\n",
            "/usr/share/fonts/truetype/humor-sans/Humor-Sans.ttf: Humor Sans:style=Regular\n"
          ]
        }
      ]
    },
    {
      "cell_type": "markdown",
      "metadata": {
        "id": "_FJsXejoZfFK"
      },
      "source": [
        "### Get SIO logo"
      ],
      "id": "_FJsXejoZfFK"
    },
    {
      "cell_type": "code",
      "metadata": {
        "id": "AJ1dGViMZf8W"
      },
      "source": [
        "def add_sio_logo(logo_file, fig):\n",
        "\n",
        "    # Add SIO logo to plot\n",
        "\n",
        "    logo = mpimg.imread(logo_file)\n",
        "\n",
        "    newax = fig.add_axes([0.73, 0.18, 0.2, 0.2], anchor='SE', zorder=1)\n",
        "    plt.imshow(logo)\n",
        "    plt.axis('off')"
      ],
      "id": "AJ1dGViMZf8W",
      "execution_count": 256,
      "outputs": []
    },
    {
      "cell_type": "code",
      "metadata": {
        "colab": {
          "base_uri": "https://localhost:8080/",
          "height": 35
        },
        "id": "UgQOM-4I3jup",
        "outputId": "9794eb7d-0000-494b-9605-ca0d08d2cdfa"
      },
      "source": [
        "    rcParams['font.family']\n",
        "    families  = font_manager.findfont(font_manager.FontProperties(family=['sans-serif']))\n",
        "    families"
      ],
      "id": "UgQOM-4I3jup",
      "execution_count": null,
      "outputs": [
        {
          "output_type": "execute_result",
          "data": {
            "application/vnd.google.colaboratory.intrinsic+json": {
              "type": "string"
            },
            "text/plain": [
              "'/usr/share/fonts/truetype/liberation/LiberationSans-Bold.ttf'"
            ]
          },
          "metadata": {},
          "execution_count": 222
        }
      ]
    },
    {
      "cell_type": "markdown",
      "metadata": {
        "id": "DgvA8mUSD11d"
      },
      "source": [
        "### Set plot properties, add logo, and save to png and files"
      ],
      "id": "DgvA8mUSD11d"
    },
    {
      "cell_type": "code",
      "metadata": {
        "colab": {
          "base_uri": "https://localhost:8080/",
          "height": 613
        },
        "id": "4d55c1ac",
        "outputId": "628f05e3-ada1-4e3f-f580-ef6e71551e64"
      },
      "source": [
        "fig = plt.figure()\n",
        "ax = fig.add_subplot()\n",
        "\n",
        "# -------------\n",
        "# Plot the data\n",
        "# -------------\n",
        "\n",
        "ax.plot(date_co2, co2, 'o', color='black',\n",
        "         markersize=3.5, linewidth=1,\n",
        "         markerfacecolor='black', markeredgecolor='black', markeredgewidth=0)\n",
        "\n",
        "ax.plot(date_co2_spline, co2_spline, '-', color='black', linewidth=0.5)\n",
        "\n",
        "\n",
        "# -------------------\n",
        "# Set plot properties\n",
        "# -------------------\n",
        "#configure_plots.set_website_plot_props(ax, fig, xmin, xmax, ymin, ymax, xlabel, ylabel)\n",
        "set_website_plot_props(ax, fig, xmin, xmax, ymin, ymax, xlabel, ylabel)\n",
        "\n",
        "# ---------------\n",
        "# Add plot titles\n",
        "# ---------------\n",
        "#configure_plots.add_3_plot_titles(ax, title1, title2, title3)\n",
        "add_3_plot_titles(ax, title1, title2, title3)\n",
        "\n",
        "# --------------------\n",
        "# Add SIO logo to plot\n",
        "# --------------------\n",
        "configure_plots.add_sio_logo(logo_file, fig)\n",
        "\n",
        "\n",
        "# ---------------------\n",
        "# Save plot for website\n",
        "# ---------------------\n",
        "fig = plt.gcf()\n",
        "\n",
        "\n",
        "configure_plots.save_plot_for_website(fig, pdf_file, png_file)\n",
        "\n",
        "files.download(pdf_file)\n",
        "\n",
        "plt.show()"
      ],
      "id": "4d55c1ac",
      "execution_count": null,
      "outputs": [
        {
          "output_type": "display_data",
          "data": {
            "application/javascript": [
              "\n",
              "    async function download(id, filename, size) {\n",
              "      if (!google.colab.kernel.accessAllowed) {\n",
              "        return;\n",
              "      }\n",
              "      const div = document.createElement('div');\n",
              "      const label = document.createElement('label');\n",
              "      label.textContent = `Downloading \"${filename}\": `;\n",
              "      div.appendChild(label);\n",
              "      const progress = document.createElement('progress');\n",
              "      progress.max = size;\n",
              "      div.appendChild(progress);\n",
              "      document.body.appendChild(div);\n",
              "\n",
              "      const buffers = [];\n",
              "      let downloaded = 0;\n",
              "\n",
              "      const channel = await google.colab.kernel.comms.open(id);\n",
              "      // Send a message to notify the kernel that we're ready.\n",
              "      channel.send({})\n",
              "\n",
              "      for await (const message of channel.messages) {\n",
              "        // Send a message to notify the kernel that we're ready.\n",
              "        channel.send({})\n",
              "        if (message.buffers) {\n",
              "          for (const buffer of message.buffers) {\n",
              "            buffers.push(buffer);\n",
              "            downloaded += buffer.byteLength;\n",
              "            progress.value = downloaded;\n",
              "          }\n",
              "        }\n",
              "      }\n",
              "      const blob = new Blob(buffers, {type: 'application/binary'});\n",
              "      const a = document.createElement('a');\n",
              "      a.href = window.URL.createObjectURL(blob);\n",
              "      a.download = filename;\n",
              "      div.appendChild(a);\n",
              "      a.click();\n",
              "      div.remove();\n",
              "    }\n",
              "  "
            ],
            "text/plain": [
              "<IPython.core.display.Javascript object>"
            ]
          },
          "metadata": {}
        },
        {
          "output_type": "display_data",
          "data": {
            "application/javascript": [
              "download(\"download_5dfe01b2-4653-41fb-9dbb-50b3a305b11c\", \"mlo_record.pdf\", 54884)"
            ],
            "text/plain": [
              "<IPython.core.display.Javascript object>"
            ]
          },
          "metadata": {}
        },
        {
          "output_type": "display_data",
          "data": {
            "image/png": "[encoded data removed]",
            "text/plain": [
              "<Figure size 864x667.636 with 2 Axes>"
            ]
          },
          "metadata": {
            "needs_background": "light"
          }
        }
      ]
    },
    {
      "cell_type": "markdown",
      "metadata": {
        "id": "aJVERZtJE-AC"
      },
      "source": [
        "## Download Plots (pdf & png)"
      ],
      "id": "aJVERZtJE-AC"
    },
    {
      "cell_type": "code",
      "metadata": {
        "colab": {
          "base_uri": "https://localhost:8080/",
          "height": 49,
          "referenced_widgets": [
            "282752b4ed0742fab37c86eaeb913d03",
            "03679e89312a4bc69a7e0b3956f8f9e7",
            "496222eed976423fa260d5b9b0c1196a"
          ]
        },
        "id": "iT_IG8LdDzt_",
        "outputId": "9f2472cb-9768-4fce-83ef-ea2cff1ca230"
      },
      "source": [
        "# from IPython.display import Javascript, display\n",
        "# from ipywidgets import widgets\n",
        "\n",
        "def download_files(ev):\n",
        "    #display(Javascript('IPython.notebook.execute_cells_below()'))\n",
        "    files.download(pdf_file)\n",
        "\n",
        "button = widgets.Button(description='Download Files', button_style='primary')\n",
        "button.on_click(download_files)\n",
        "display(button)"
      ],
      "id": "iT_IG8LdDzt_",
      "execution_count": null,
      "outputs": [
        {
          "output_type": "display_data",
          "data": {
            "application/vnd.jupyter.widget-view+json": {
              "model_id": "282752b4ed0742fab37c86eaeb913d03",
              "version_minor": 0,
              "version_major": 2
            },
            "text/plain": [
              "Button(button_style='primary', description='Download Files', style=ButtonStyle())"
            ]
          },
          "metadata": {}
        }
      ]
    },
    {
      "cell_type": "code",
      "metadata": {
        "id": "nfkE8n80DuKf"
      },
      "source": [
        ""
      ],
      "id": "nfkE8n80DuKf",
      "execution_count": null,
      "outputs": []
    },
    {
      "cell_type": "code",
      "metadata": {
        "id": "d9cd3aad"
      },
      "source": [
        "!ls plots"
      ],
      "id": "d9cd3aad",
      "execution_count": null,
      "outputs": []
    },
    {
      "cell_type": "code",
      "metadata": {
        "id": "8PmMAqqL6Rn5"
      },
      "source": [
        ""
      ],
      "id": "8PmMAqqL6Rn5",
      "execution_count": null,
      "outputs": []
    }
  ]
}