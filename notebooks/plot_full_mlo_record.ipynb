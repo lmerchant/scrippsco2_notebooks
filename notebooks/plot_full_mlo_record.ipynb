{
  "nbformat": 4,
  "nbformat_minor": 5,
  "metadata": {
    "kernelspec": {
      "display_name": "Python 3 (ipykernel)",
      "language": "python",
      "name": "python3"
    },
    "language_info": {
      "codemirror_mode": {
        "name": "ipython",
        "version": 3
      },
      "file_extension": ".py",
      "mimetype": "text/x-python",
      "name": "python",
      "nbconvert_exporter": "python",
      "pygments_lexer": "ipython3",
      "version": "3.8.5"
    },
    "colab": {
      "name": "plot_full_mlo_record.ipynb",
      "provenance": []
    }
  },
  "cells": [
    {
      "cell_type": "markdown",
      "metadata": {
        "id": "d94b83b3"
      },
      "source": [
        "# Plot full record of Mauna Loa in-situ data"
      ],
      "id": "d94b83b3"
    },
    {
      "cell_type": "markdown",
      "metadata": {
        "id": "b697565c"
      },
      "source": [
        "For bold labels and tick labels, latex needs to be installed.\n",
        "See https://matplotlib.org/stable/tutorials/text/usetex.html\n",
        "\n",
        "Matplotlib’s LaTeX support requires a working LaTeX installation, \n",
        "dvipng (which may be included with your LaTeX installation), and \n",
        "Ghostscript (GPL Ghostscript 8.60 or later is recommended). \n",
        "The executables for these external dependencies must all be \n",
        "located on your PATH.\n",
        "\n",
        "To install Latex: https://www.latex-project.org/get/\n",
        "\n",
        "Create python virtual environment and install:\n",
        "pandas, numpy, and matplotlib"
      ],
      "id": "b697565c"
    },
    {
      "cell_type": "markdown",
      "metadata": {
        "id": "4a234df0"
      },
      "source": [
        "## Load in Scripps CO2 Program Github Repository"
      ],
      "id": "4a234df0"
    },
    {
      "cell_type": "code",
      "metadata": {
        "id": "aa1cd080"
      },
      "source": [
        "import os\n",
        "os.chdir('/content')\n",
        "CODE_DIR = 'scrippsco2_notebooks'"
      ],
      "id": "aa1cd080",
      "execution_count": 84,
      "outputs": []
    },
    {
      "cell_type": "code",
      "metadata": {
        "colab": {
          "base_uri": "https://localhost:8080/"
        },
        "id": "tCS7b-vkhL48",
        "outputId": "ae5f5086-6116-4483-a059-669a0e245dc7"
      },
      "source": [
        "!git clone https://github.com/lmerchant/scrippsco2_notebooks.git $CODE_DIR\n",
        "%cd $CODE_DIR"
      ],
      "id": "tCS7b-vkhL48",
      "execution_count": 85,
      "outputs": [
        {
          "output_type": "stream",
          "name": "stdout",
          "text": [
            "fatal: destination path 'scrippsco2_notebooks' already exists and is not an empty directory.\n",
            "/content/scrippsco2_notebooks\n"
          ]
        }
      ]
    },
    {
      "cell_type": "code",
      "metadata": {
        "colab": {
          "base_uri": "https://localhost:8080/"
        },
        "id": "tKR7ApRatr-P",
        "outputId": "a4ef0e28-b4b8-4d94-8b2f-7457eee1d67c"
      },
      "source": [
        "# get modifications made on the repo\n",
        "!git pull origin main"
      ],
      "id": "tKR7ApRatr-P",
      "execution_count": 86,
      "outputs": [
        {
          "output_type": "stream",
          "name": "stdout",
          "text": [
            "From https://github.com/lmerchant/scrippsco2_notebooks\n",
            " * branch            main       -> FETCH_HEAD\n",
            "Already up to date.\n"
          ]
        }
      ]
    },
    {
      "cell_type": "code",
      "metadata": {
        "id": "0cd61aa7"
      },
      "source": [
        "%matplotlib inline\n",
        "import requests\n",
        "from google.colab import files\n",
        "import pandas as pd\n",
        "import numpy as np\n",
        "import pathlib\n",
        "from datetime import datetime, date\n",
        "# import matplotlib.image as mpimg\n",
        "import matplotlib.pyplot as plt\n",
        "from matplotlib.pyplot import figure\n",
        "# from matplotlib.ticker import (MultipleLocator, AutoMinorLocator)\n",
        "# from matplotlib import ticker\n",
        "from matplotlib import rc,rcParams"
      ],
      "id": "0cd61aa7",
      "execution_count": 87,
      "outputs": []
    },
    {
      "cell_type": "markdown",
      "metadata": {
        "id": "jBxuKrH8ict1"
      },
      "source": [
        "### Configure the following to use Latex fonts"
      ],
      "id": "jBxuKrH8ict1"
    },
    {
      "cell_type": "code",
      "metadata": {
        "id": "T2yE3z_miZ-J"
      },
      "source": [
        "rc('text', usetex=True)\n",
        "rcParams['text.latex.preamble'] = [r'\\usepackage{amsmath}']\n",
        "# !apt install texlive-fonts-recommended texlive-fonts-extra cm-super dvipng"
      ],
      "id": "T2yE3z_miZ-J",
      "execution_count": 88,
      "outputs": []
    },
    {
      "cell_type": "markdown",
      "metadata": {
        "id": "e5a5c538"
      },
      "source": [
        "### Load in plotting functions"
      ],
      "id": "e5a5c538"
    },
    {
      "cell_type": "code",
      "metadata": {
        "id": "d00fd81b"
      },
      "source": [
        "from utils import get_dates, configure_plots"
      ],
      "id": "d00fd81b",
      "execution_count": 89,
      "outputs": []
    },
    {
      "cell_type": "markdown",
      "metadata": {
        "id": "0ee378f8"
      },
      "source": [
        "### Set directories and file names for data,  plot, and logo"
      ],
      "id": "0ee378f8"
    },
    {
      "cell_type": "code",
      "metadata": {
        "id": "804adc16"
      },
      "source": [
        "insitu_data_dir = 'https://scrippsco2.ucsd.edu/assets/data/atmospheric/stations/in_situ_co2/'\n",
        "\n",
        "plot_dir = pathlib.Path('./plots')\n",
        "plot_dir.mkdir(exist_ok=True)\n",
        "\n",
        "logo_dir = './images'\n",
        "logo_file  = pathlib.Path(logo_dir) /  'sio_logo.png'"
      ],
      "id": "804adc16",
      "execution_count": 90,
      "outputs": []
    },
    {
      "cell_type": "code",
      "metadata": {
        "id": "dc194453"
      },
      "source": [
        "# TODO\n",
        "# Read in data from website\n",
        "\n",
        "monthly_mlo = 'monthly/monthly_in_situ_co2_mlo.csv'\n",
        "data_file = f\"{insitu_data_dir}/{monthly_mlo}\" \n",
        "\n",
        "pdf_file = plot_dir / 'mlo_record.pdf'\n",
        "png_file = plot_dir / 'mlo_record.png'"
      ],
      "id": "dc194453",
      "execution_count": 91,
      "outputs": []
    },
    {
      "cell_type": "markdown",
      "metadata": {
        "id": "1f5ae169"
      },
      "source": [
        "### Get today's date"
      ],
      "id": "1f5ae169"
    },
    {
      "cell_type": "code",
      "metadata": {
        "id": "ec5051ae"
      },
      "source": [
        "todays_date_moyr, todays_date_modyyr, today_decimal, todays_year = get_dates.get_todays_date()"
      ],
      "id": "ec5051ae",
      "execution_count": 92,
      "outputs": []
    },
    {
      "cell_type": "markdown",
      "metadata": {
        "id": "da386a8b"
      },
      "source": [
        "### Set plot limits and text"
      ],
      "id": "da386a8b"
    },
    {
      "cell_type": "code",
      "metadata": {
        "id": "40aeff39"
      },
      "source": [
        "xmin = 1957\n",
        "xmax = todays_year + 2\n",
        "\n",
        "ymin = 310\n",
        "ymax = 425"
      ],
      "id": "40aeff39",
      "execution_count": 93,
      "outputs": []
    },
    {
      "cell_type": "code",
      "metadata": {
        "id": "e93db534"
      },
      "source": [
        "xlabel = 'Year'\n",
        "ylabel = 'CO$_2$ Concentration (ppm)'\n",
        "\n",
        "title1 = 'Mauna Loa Observatory, Hawaii'\n",
        "title2 = 'Monthly Average Carbon Dioxide Concentration'\n",
        "title3 = f'Data from Scripps CO$_2$ Program     Last updated {todays_date_moyr}'"
      ],
      "id": "e93db534",
      "execution_count": 94,
      "outputs": []
    },
    {
      "cell_type": "markdown",
      "metadata": {
        "id": "e845a189"
      },
      "source": [
        "## Load in Data and process"
      ],
      "id": "e845a189"
    },
    {
      "cell_type": "markdown",
      "metadata": {
        "id": "zVfCEMzt3klz"
      },
      "source": [
        "### Fix bad security certificate for scrippsco2.ucsd.edu"
      ],
      "id": "zVfCEMzt3klz"
    },
    {
      "cell_type": "code",
      "metadata": {
        "id": "HrRWn_UR3h0H"
      },
      "source": [
        "import ssl\n",
        "\n",
        "ssl._create_default_https_context = ssl._create_unverified_context"
      ],
      "id": "HrRWn_UR3h0H",
      "execution_count": 95,
      "outputs": []
    },
    {
      "cell_type": "code",
      "metadata": {
        "colab": {
          "base_uri": "https://localhost:8080/",
          "height": 204
        },
        "id": "2764b8ff",
        "outputId": "26dceb58-350d-44fc-f6e6-c288ab30fb87"
      },
      "source": [
        "df = pd.read_csv(data_file,sep=',',comment='\"')\n",
        "df.head()"
      ],
      "id": "2764b8ff",
      "execution_count": 96,
      "outputs": [
        {
          "output_type": "execute_result",
          "data": {
            "text/html": [
              "<div>\n",
              "<style scoped>\n",
              "    .dataframe tbody tr th:only-of-type {\n",
              "        vertical-align: middle;\n",
              "    }\n",
              "\n",
              "    .dataframe tbody tr th {\n",
              "        vertical-align: top;\n",
              "    }\n",
              "\n",
              "    .dataframe thead th {\n",
              "        text-align: right;\n",
              "    }\n",
              "</style>\n",
              "<table border=\"1\" class=\"dataframe\">\n",
              "  <thead>\n",
              "    <tr style=\"text-align: right;\">\n",
              "      <th></th>\n",
              "      <th>Yr</th>\n",
              "      <th>Mn</th>\n",
              "      <th>Date</th>\n",
              "      <th>Date</th>\n",
              "      <th>CO2</th>\n",
              "      <th>seasonally</th>\n",
              "      <th>fit</th>\n",
              "      <th>seasonally</th>\n",
              "      <th>CO2</th>\n",
              "      <th>seasonally</th>\n",
              "    </tr>\n",
              "  </thead>\n",
              "  <tbody>\n",
              "    <tr>\n",
              "      <th>0</th>\n",
              "      <td></td>\n",
              "      <td></td>\n",
              "      <td></td>\n",
              "      <td></td>\n",
              "      <td></td>\n",
              "      <td>adjusted</td>\n",
              "      <td></td>\n",
              "      <td>adjusted fit</td>\n",
              "      <td>filled</td>\n",
              "      <td>adjusted filled</td>\n",
              "    </tr>\n",
              "    <tr>\n",
              "      <th>1</th>\n",
              "      <td></td>\n",
              "      <td></td>\n",
              "      <td>Excel</td>\n",
              "      <td></td>\n",
              "      <td>[ppm]</td>\n",
              "      <td>[ppm]</td>\n",
              "      <td>[ppm]</td>\n",
              "      <td>[ppm]</td>\n",
              "      <td>[ppm]</td>\n",
              "      <td>[ppm]</td>\n",
              "    </tr>\n",
              "    <tr>\n",
              "      <th>2</th>\n",
              "      <td>1958</td>\n",
              "      <td>01</td>\n",
              "      <td>21200</td>\n",
              "      <td>1958.0411</td>\n",
              "      <td>-99.99</td>\n",
              "      <td>-99.99</td>\n",
              "      <td>-99.99</td>\n",
              "      <td>-99.99</td>\n",
              "      <td>-99.99</td>\n",
              "      <td>-99.99</td>\n",
              "    </tr>\n",
              "    <tr>\n",
              "      <th>3</th>\n",
              "      <td>1958</td>\n",
              "      <td>02</td>\n",
              "      <td>21231</td>\n",
              "      <td>1958.1260</td>\n",
              "      <td>-99.99</td>\n",
              "      <td>-99.99</td>\n",
              "      <td>-99.99</td>\n",
              "      <td>-99.99</td>\n",
              "      <td>-99.99</td>\n",
              "      <td>-99.99</td>\n",
              "    </tr>\n",
              "    <tr>\n",
              "      <th>4</th>\n",
              "      <td>1958</td>\n",
              "      <td>03</td>\n",
              "      <td>21259</td>\n",
              "      <td>1958.2027</td>\n",
              "      <td>315.71</td>\n",
              "      <td>314.44</td>\n",
              "      <td>316.20</td>\n",
              "      <td>314.91</td>\n",
              "      <td>315.71</td>\n",
              "      <td>314.44</td>\n",
              "    </tr>\n",
              "  </tbody>\n",
              "</table>\n",
              "</div>"
            ],
            "text/plain": [
              "     Yr   Mn      Date  ...    seasonally           CO2       seasonally\n",
              "0                       ...  adjusted fit        filled  adjusted filled\n",
              "1                Excel  ...         [ppm]         [ppm]            [ppm]\n",
              "2  1958   01     21200  ...        -99.99        -99.99           -99.99\n",
              "3  1958   02     21231  ...        -99.99        -99.99           -99.99\n",
              "4  1958   03     21259  ...        314.91        315.71           314.44\n",
              "\n",
              "[5 rows x 10 columns]"
            ]
          },
          "metadata": {},
          "execution_count": 96
        }
      ]
    },
    {
      "cell_type": "code",
      "metadata": {
        "id": "81GUfNQd0I-o"
      },
      "source": [
        ""
      ],
      "id": "81GUfNQd0I-o",
      "execution_count": 96,
      "outputs": []
    },
    {
      "cell_type": "markdown",
      "metadata": {
        "id": "4d4b7e96"
      },
      "source": [
        "### Remove next two rows containing header information and change to numeric vals"
      ],
      "id": "4d4b7e96"
    },
    {
      "cell_type": "code",
      "metadata": {
        "id": "308138b6"
      },
      "source": [
        "df = df.iloc[2:]\n",
        "df = df.apply(pd.to_numeric)"
      ],
      "id": "308138b6",
      "execution_count": 97,
      "outputs": []
    },
    {
      "cell_type": "markdown",
      "metadata": {
        "id": "b4b8a9af"
      },
      "source": [
        "### Rename column names to replace duplicate names"
      ],
      "id": "b4b8a9af"
    },
    {
      "cell_type": "code",
      "metadata": {
        "colab": {
          "base_uri": "https://localhost:8080/",
          "height": 224
        },
        "id": "17599b5f",
        "outputId": "241a73c1-9c26-4f84-e689-e9627945823c"
      },
      "source": [
        "col_mapping ={df.columns[0]:'year', df.columns[1]: 'month', df.columns[2]: 'excel_date', \n",
        "              df.columns[3]: 'dec_date', df.columns[4]: 'co2', df.columns[5]: 'co2_seasonal',\n",
        "              df.columns[6]: 'co2_fit', df.columns[7]: 'co2_seasonal_fit', \n",
        "              df.columns[8]:'co2_filled', df.columns[9]: 'co2_seasonal_filled'}\n",
        "df = df.rename(columns=col_mapping)\n",
        "df.head()"
      ],
      "id": "17599b5f",
      "execution_count": 98,
      "outputs": [
        {
          "output_type": "execute_result",
          "data": {
            "text/html": [
              "<div>\n",
              "<style scoped>\n",
              "    .dataframe tbody tr th:only-of-type {\n",
              "        vertical-align: middle;\n",
              "    }\n",
              "\n",
              "    .dataframe tbody tr th {\n",
              "        vertical-align: top;\n",
              "    }\n",
              "\n",
              "    .dataframe thead th {\n",
              "        text-align: right;\n",
              "    }\n",
              "</style>\n",
              "<table border=\"1\" class=\"dataframe\">\n",
              "  <thead>\n",
              "    <tr style=\"text-align: right;\">\n",
              "      <th></th>\n",
              "      <th>year</th>\n",
              "      <th>month</th>\n",
              "      <th>excel_date</th>\n",
              "      <th>dec_date</th>\n",
              "      <th>co2</th>\n",
              "      <th>co2_seasonal</th>\n",
              "      <th>co2_fit</th>\n",
              "      <th>co2_seasonal_fit</th>\n",
              "      <th>co2_filled</th>\n",
              "      <th>co2_seasonal_filled</th>\n",
              "    </tr>\n",
              "  </thead>\n",
              "  <tbody>\n",
              "    <tr>\n",
              "      <th>2</th>\n",
              "      <td>1958</td>\n",
              "      <td>1</td>\n",
              "      <td>21200</td>\n",
              "      <td>1958.0411</td>\n",
              "      <td>-99.99</td>\n",
              "      <td>-99.99</td>\n",
              "      <td>-99.99</td>\n",
              "      <td>-99.99</td>\n",
              "      <td>-99.99</td>\n",
              "      <td>-99.99</td>\n",
              "    </tr>\n",
              "    <tr>\n",
              "      <th>3</th>\n",
              "      <td>1958</td>\n",
              "      <td>2</td>\n",
              "      <td>21231</td>\n",
              "      <td>1958.1260</td>\n",
              "      <td>-99.99</td>\n",
              "      <td>-99.99</td>\n",
              "      <td>-99.99</td>\n",
              "      <td>-99.99</td>\n",
              "      <td>-99.99</td>\n",
              "      <td>-99.99</td>\n",
              "    </tr>\n",
              "    <tr>\n",
              "      <th>4</th>\n",
              "      <td>1958</td>\n",
              "      <td>3</td>\n",
              "      <td>21259</td>\n",
              "      <td>1958.2027</td>\n",
              "      <td>315.71</td>\n",
              "      <td>314.44</td>\n",
              "      <td>316.20</td>\n",
              "      <td>314.91</td>\n",
              "      <td>315.71</td>\n",
              "      <td>314.44</td>\n",
              "    </tr>\n",
              "    <tr>\n",
              "      <th>5</th>\n",
              "      <td>1958</td>\n",
              "      <td>4</td>\n",
              "      <td>21290</td>\n",
              "      <td>1958.2877</td>\n",
              "      <td>317.45</td>\n",
              "      <td>315.16</td>\n",
              "      <td>317.30</td>\n",
              "      <td>314.99</td>\n",
              "      <td>317.45</td>\n",
              "      <td>315.16</td>\n",
              "    </tr>\n",
              "    <tr>\n",
              "      <th>6</th>\n",
              "      <td>1958</td>\n",
              "      <td>5</td>\n",
              "      <td>21320</td>\n",
              "      <td>1958.3699</td>\n",
              "      <td>317.51</td>\n",
              "      <td>314.71</td>\n",
              "      <td>317.87</td>\n",
              "      <td>315.07</td>\n",
              "      <td>317.51</td>\n",
              "      <td>314.71</td>\n",
              "    </tr>\n",
              "  </tbody>\n",
              "</table>\n",
              "</div>"
            ],
            "text/plain": [
              "   year  month  excel_date  ...  co2_seasonal_fit  co2_filled  co2_seasonal_filled\n",
              "2  1958      1       21200  ...            -99.99      -99.99               -99.99\n",
              "3  1958      2       21231  ...            -99.99      -99.99               -99.99\n",
              "4  1958      3       21259  ...            314.91      315.71               314.44\n",
              "5  1958      4       21290  ...            314.99      317.45               315.16\n",
              "6  1958      5       21320  ...            315.07      317.51               314.71\n",
              "\n",
              "[5 rows x 10 columns]"
            ]
          },
          "metadata": {},
          "execution_count": 98
        }
      ]
    },
    {
      "cell_type": "markdown",
      "metadata": {
        "id": "9792df54"
      },
      "source": [
        "### Break into 2 dataframes. One for CO2 and one for the CO2 spline\n",
        "The decimal date is the midpoint of each month"
      ],
      "id": "9792df54"
    },
    {
      "cell_type": "code",
      "metadata": {
        "id": "6b167c31"
      },
      "source": [
        "df_co2 = df[['dec_date', 'co2']].copy()\n",
        "df_co2_spline = df[['dec_date', 'co2_fit']].copy()"
      ],
      "id": "6b167c31",
      "execution_count": 99,
      "outputs": []
    },
    {
      "cell_type": "markdown",
      "metadata": {
        "id": "37e7857d"
      },
      "source": [
        "### Remove CO2 rows and CO2 spline rows with fill values -99.99"
      ],
      "id": "37e7857d"
    },
    {
      "cell_type": "code",
      "metadata": {
        "scrolled": true,
        "id": "5b917a69"
      },
      "source": [
        "df_co2 = df_co2[df_co2['co2'] != -99.99]\n",
        "df_co2_spline = df_co2_spline[df_co2_spline['co2_fit'] != -99.99]"
      ],
      "id": "5b917a69",
      "execution_count": 100,
      "outputs": []
    },
    {
      "cell_type": "markdown",
      "metadata": {
        "id": "85ab8af4"
      },
      "source": [
        "### Convert to numpy arrays for plotting"
      ],
      "id": "85ab8af4"
    },
    {
      "cell_type": "code",
      "metadata": {
        "id": "18a3a46c"
      },
      "source": [
        "date_co2 = df_co2['dec_date'].to_numpy()\n",
        "co2 = df_co2['co2'].to_numpy()\n",
        "date_co2_spline = df_co2_spline['dec_date'].to_numpy()\n",
        "co2_spline = df_co2_spline['co2_fit'].to_numpy()"
      ],
      "id": "18a3a46c",
      "execution_count": 101,
      "outputs": []
    },
    {
      "cell_type": "markdown",
      "metadata": {
        "id": "0645354e"
      },
      "source": [
        "# Create  Plot"
      ],
      "id": "0645354e"
    },
    {
      "cell_type": "markdown",
      "metadata": {
        "id": "7b9a40a1"
      },
      "source": [
        "### Set plot properties, add logo, and save to png and files"
      ],
      "id": "7b9a40a1"
    },
    {
      "cell_type": "code",
      "metadata": {
        "colab": {
          "base_uri": "https://localhost:8080/",
          "height": 612
        },
        "id": "4d55c1ac",
        "outputId": "dffa4082-4af8-4b6c-a11a-8eb2825ee15c"
      },
      "source": [
        "fig = plt.figure()\n",
        "ax = fig.add_subplot()\n",
        "\n",
        "# -------------\n",
        "# Plot the data\n",
        "# -------------\n",
        "\n",
        "ax.plot(date_co2, co2, 'o', color='black',\n",
        "         markersize=3.5, linewidth=1,\n",
        "         markerfacecolor='black', markeredgecolor='black', markeredgewidth=0)\n",
        "\n",
        "ax.plot(date_co2_spline, co2_spline, '-', color='black', linewidth=0.5)\n",
        "\n",
        "\n",
        "# -------------------\n",
        "# Set plot properties\n",
        "# -------------------\n",
        "configure_plots.set_website_plot_props(ax, fig, xmin, xmax, ymin, ymax, xlabel, ylabel)\n",
        "\n",
        "# ---------------\n",
        "# Add plot titles\n",
        "# ---------------\n",
        "configure_plots.add_3_plot_titles(ax, title1, title2, title3)\n",
        "\n",
        "# --------------------\n",
        "# Add SIO logo to plot\n",
        "# --------------------\n",
        "configure_plots.add_sio_logo(logo_file, fig)\n",
        "\n",
        "\n",
        "# ---------------------\n",
        "# Save plot for website\n",
        "# ---------------------\n",
        "fig = plt.gcf()\n",
        "\n",
        "\n",
        "configure_plots.save_plot_for_website(fig, pdf_file, png_file)\n",
        "\n",
        "#files.download(pdf_file)\n",
        "\n",
        "plt.show()"
      ],
      "id": "4d55c1ac",
      "execution_count": 109,
      "outputs": [
        {
          "output_type": "display_data",
          "data": {
            "application/javascript": [
              "\n",
              "    async function download(id, filename, size) {\n",
              "      if (!google.colab.kernel.accessAllowed) {\n",
              "        return;\n",
              "      }\n",
              "      const div = document.createElement('div');\n",
              "      const label = document.createElement('label');\n",
              "      label.textContent = `Downloading \"${filename}\": `;\n",
              "      div.appendChild(label);\n",
              "      const progress = document.createElement('progress');\n",
              "      progress.max = size;\n",
              "      div.appendChild(progress);\n",
              "      document.body.appendChild(div);\n",
              "\n",
              "      const buffers = [];\n",
              "      let downloaded = 0;\n",
              "\n",
              "      const channel = await google.colab.kernel.comms.open(id);\n",
              "      // Send a message to notify the kernel that we're ready.\n",
              "      channel.send({})\n",
              "\n",
              "      for await (const message of channel.messages) {\n",
              "        // Send a message to notify the kernel that we're ready.\n",
              "        channel.send({})\n",
              "        if (message.buffers) {\n",
              "          for (const buffer of message.buffers) {\n",
              "            buffers.push(buffer);\n",
              "            downloaded += buffer.byteLength;\n",
              "            progress.value = downloaded;\n",
              "          }\n",
              "        }\n",
              "      }\n",
              "      const blob = new Blob(buffers, {type: 'application/binary'});\n",
              "      const a = document.createElement('a');\n",
              "      a.href = window.URL.createObjectURL(blob);\n",
              "      a.download = filename;\n",
              "      div.appendChild(a);\n",
              "      a.click();\n",
              "      div.remove();\n",
              "    }\n",
              "  "
            ],
            "text/plain": [
              "<IPython.core.display.Javascript object>"
            ]
          },
          "metadata": {}
        },
        {
          "output_type": "display_data",
          "data": {
            "application/javascript": [
              "download(\"download_3a748b3d-5568-41c5-a442-879cdb404e94\", \"mlo_record.pdf\", 106949)"
            ],
            "text/plain": [
              "<IPython.core.display.Javascript object>"
            ]
          },
          "metadata": {}
        },
        {
          "output_type": "display_data",
          "data": {
            "image/png": "[encoded data removed]",
            "text/plain": [
              "<Figure size 864x667.636 with 2 Axes>"
            ]
          },
          "metadata": {
            "needs_background": "light"
          }
        }
      ]
    },
    {
      "cell_type": "code",
      "metadata": {
        "colab": {
          "base_uri": "https://localhost:8080/"
        },
        "id": "d9cd3aad",
        "outputId": "2c4b52ce-21c4-4ad0-d260-07faeededa6e"
      },
      "source": [
        "!ls plots"
      ],
      "id": "d9cd3aad",
      "execution_count": 106,
      "outputs": [
        {
          "output_type": "stream",
          "name": "stdout",
          "text": [
            "mlo_record.pdf\tmlo_record.png\n"
          ]
        }
      ]
    },
    {
      "cell_type": "code",
      "metadata": {
        "id": "8PmMAqqL6Rn5"
      },
      "source": [
        ""
      ],
      "id": "8PmMAqqL6Rn5",
      "execution_count": null,
      "outputs": []
    }
  ]
}