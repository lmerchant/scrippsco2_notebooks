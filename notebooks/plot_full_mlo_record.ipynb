{
  "nbformat": 4,
  "nbformat_minor": 5,
  "metadata": {
    "kernelspec": {
      "display_name": "Python 3 (ipykernel)",
      "language": "python",
      "name": "python3"
    },
    "language_info": {
      "codemirror_mode": {
        "name": "ipython",
        "version": 3
      },
      "file_extension": ".py",
      "mimetype": "text/x-python",
      "name": "python",
      "nbconvert_exporter": "python",
      "pygments_lexer": "ipython3",
      "version": "3.8.5"
    },
    "colab": {
      "name": "plot_full_mlo_record.ipynb",
      "provenance": []
    }
  },
  "cells": [
    {
      "cell_type": "markdown",
      "metadata": {
        "id": "d94b83b3"
      },
      "source": [
        "# Plot full record of Mauna Loa in-situ data"
      ],
      "id": "d94b83b3"
    },
    {
      "cell_type": "markdown",
      "metadata": {
        "id": "b697565c"
      },
      "source": [
        "For bold labels and tick labels, latex needs to be installed.\n",
        "See https://matplotlib.org/stable/tutorials/text/usetex.html\n",
        "\n",
        "Matplotlib’s LaTeX support requires a working LaTeX installation, \n",
        "dvipng (which may be included with your LaTeX installation), and \n",
        "Ghostscript (GPL Ghostscript 8.60 or later is recommended). \n",
        "The executables for these external dependencies must all be \n",
        "located on your PATH.\n",
        "\n",
        "To install Latex: https://www.latex-project.org/get/\n",
        "\n",
        "Create python virtual environment and install:\n",
        "pandas, numpy, and matplotlib"
      ],
      "id": "b697565c"
    },
    {
      "cell_type": "markdown",
      "metadata": {
        "id": "4a234df0"
      },
      "source": [
        "## Load in Scripps CO2 Program Github Repository"
      ],
      "id": "4a234df0"
    },
    {
      "cell_type": "code",
      "metadata": {
        "id": "aa1cd080"
      },
      "source": [
        "import os\n",
        "os.chdir('/content')\n",
        "CODE_DIR = 'scrippsco2_notebooks'"
      ],
      "id": "aa1cd080",
      "execution_count": 15,
      "outputs": []
    },
    {
      "cell_type": "code",
      "metadata": {
        "colab": {
          "base_uri": "https://localhost:8080/"
        },
        "id": "tCS7b-vkhL48",
        "outputId": "0edb0d19-cacf-4002-fc6a-4e555aba5351"
      },
      "source": [
        "!git clone https://github.com/lmerchant/scrippsco2_notebooks.git $CODE_DIR\n",
        "%cd $CODE_DIR"
      ],
      "id": "tCS7b-vkhL48",
      "execution_count": 16,
      "outputs": [
        {
          "output_type": "stream",
          "name": "stdout",
          "text": [
            "fatal: destination path 'scrippsco2_notebooks' already exists and is not an empty directory.\n",
            "/content/scrippsco2_notebooks\n"
          ]
        }
      ]
    },
    {
      "cell_type": "code",
      "metadata": {
        "colab": {
          "base_uri": "https://localhost:8080/"
        },
        "id": "tKR7ApRatr-P",
        "outputId": "829f3e4a-3a99-49fc-f20f-93632ec5e5a3"
      },
      "source": [
        "# get modifications made on the repo\n",
        "!git pull origin main"
      ],
      "id": "tKR7ApRatr-P",
      "execution_count": 22,
      "outputs": [
        {
          "output_type": "stream",
          "name": "stdout",
          "text": [
            "remote: Enumerating objects: 11, done.\u001b[K\n",
            "remote: Counting objects:   9% (1/11)\u001b[K\rremote: Counting objects:  18% (2/11)\u001b[K\rremote: Counting objects:  27% (3/11)\u001b[K\rremote: Counting objects:  36% (4/11)\u001b[K\rremote: Counting objects:  45% (5/11)\u001b[K\rremote: Counting objects:  54% (6/11)\u001b[K\rremote: Counting objects:  63% (7/11)\u001b[K\rremote: Counting objects:  72% (8/11)\u001b[K\rremote: Counting objects:  81% (9/11)\u001b[K\rremote: Counting objects:  90% (10/11)\u001b[K\rremote: Counting objects: 100% (11/11)\u001b[K\rremote: Counting objects: 100% (11/11), done.\u001b[K\n",
            "remote: Compressing objects:  14% (1/7)\u001b[K\rremote: Compressing objects:  28% (2/7)\u001b[K\rremote: Compressing objects:  42% (3/7)\u001b[K\rremote: Compressing objects:  57% (4/7)\u001b[K\rremote: Compressing objects:  71% (5/7)\u001b[K\rremote: Compressing objects:  85% (6/7)\u001b[K\rremote: Compressing objects: 100% (7/7)\u001b[K\rremote: Compressing objects: 100% (7/7), done.\u001b[K\n",
            "remote: Total 10 (delta 3), reused 8 (delta 2), pack-reused 0\u001b[K\n",
            "Unpacking objects:  10% (1/10)   \rUnpacking objects:  20% (2/10)   \rUnpacking objects:  30% (3/10)   \rUnpacking objects:  40% (4/10)   \rUnpacking objects:  50% (5/10)   \rUnpacking objects:  60% (6/10)   \rUnpacking objects:  70% (7/10)   \rUnpacking objects:  80% (8/10)   \rUnpacking objects:  90% (9/10)   \rUnpacking objects: 100% (10/10)   \rUnpacking objects: 100% (10/10), done.\n",
            "From https://github.com/lmerchant/scrippsco2_notebooks\n",
            " * branch            main       -> FETCH_HEAD\n",
            "   e545d35..b80aae4  main       -> origin/main\n",
            "Updating e545d35..b80aae4\n",
            "Fast-forward\n",
            " utils/__init__.py                              |  0\n",
            " {scrippsco2_utils => utils}/configure_plots.py | 17 \u001b[32m+++++++++++++\u001b[m\u001b[31m----\u001b[m\n",
            " {scrippsco2_utils => utils}/get_dates.py       |  0\n",
            " 3 files changed, 13 insertions(+), 4 deletions(-)\n",
            " create mode 100644 utils/__init__.py\n",
            " rename {scrippsco2_utils => utils}/configure_plots.py (93%)\n",
            " rename {scrippsco2_utils => utils}/get_dates.py (100%)\n"
          ]
        }
      ]
    },
    {
      "cell_type": "code",
      "metadata": {
        "id": "0cd61aa7"
      },
      "source": [
        "%matplotlib inline\n",
        "import requests\n",
        "from google.colab import files\n",
        "import pandas as pd\n",
        "import numpy as np\n",
        "import pathlib\n",
        "from datetime import datetime, date\n",
        "# import matplotlib.image as mpimg\n",
        "import matplotlib.pyplot as plt\n",
        "from matplotlib.pyplot import figure\n",
        "# from matplotlib.ticker import (MultipleLocator, AutoMinorLocator)\n",
        "# from matplotlib import ticker\n",
        "from matplotlib import rc,rcParams"
      ],
      "id": "0cd61aa7",
      "execution_count": 36,
      "outputs": []
    },
    {
      "cell_type": "markdown",
      "metadata": {
        "id": "jBxuKrH8ict1"
      },
      "source": [
        "### Configure the following to use Latex fonts"
      ],
      "id": "jBxuKrH8ict1"
    },
    {
      "cell_type": "code",
      "metadata": {
        "id": "T2yE3z_miZ-J"
      },
      "source": [
        "rc('text', usetex=True)\n",
        "rcParams['text.latex.preamble'] = [r'\\usepackage{amsmath}']\n",
        "# !apt install texlive-fonts-recommended texlive-fonts-extra cm-super dvipng"
      ],
      "id": "T2yE3z_miZ-J",
      "execution_count": 20,
      "outputs": []
    },
    {
      "cell_type": "markdown",
      "metadata": {
        "id": "e5a5c538"
      },
      "source": [
        "### Load in plotting functions"
      ],
      "id": "e5a5c538"
    },
    {
      "cell_type": "code",
      "metadata": {
        "id": "d00fd81b"
      },
      "source": [
        "from utils import get_dates, configure_plots"
      ],
      "id": "d00fd81b",
      "execution_count": 23,
      "outputs": []
    },
    {
      "cell_type": "markdown",
      "metadata": {
        "id": "0ee378f8"
      },
      "source": [
        "### Set directories and file names for data,  plot, and logo"
      ],
      "id": "0ee378f8"
    },
    {
      "cell_type": "code",
      "metadata": {
        "id": "804adc16"
      },
      "source": [
        "insitu_data_dir = 'https://scrippsco2.ucsd.edu/assets/data/atmospheric/stations/in_situ_co2/'\n",
        "\n",
        "plot_dir = pathlib.Path('./plots')\n",
        "plot_dir.mkdir(exist_ok=True)\n",
        "\n",
        "logo_dir = './images'\n",
        "logo_file  = pathlib.Path(logo_dir) /  'sio_logo.png'"
      ],
      "id": "804adc16",
      "execution_count": 42,
      "outputs": []
    },
    {
      "cell_type": "code",
      "metadata": {
        "id": "dc194453"
      },
      "source": [
        "# TODO\n",
        "# Read in data from website\n",
        "\n",
        "monthly_mlo = 'monthly/monthly_in_situ_co2_mlo.csv'\n",
        "data_file = f\"{insitu_data_dir}/{monthly_mlo}\" \n",
        "\n",
        "pdf_file = plot_dir / 'mlo_record.pdf'\n",
        "png_file = plot_dir / 'mlo_record.png'"
      ],
      "id": "dc194453",
      "execution_count": null,
      "outputs": []
    },
    {
      "cell_type": "markdown",
      "metadata": {
        "id": "1f5ae169"
      },
      "source": [
        "### Get today's date"
      ],
      "id": "1f5ae169"
    },
    {
      "cell_type": "code",
      "metadata": {
        "id": "ec5051ae"
      },
      "source": [
        "todays_date_moyr, todays_date_modyyr, today_decimal, todays_year = get_dates.get_todays_date()"
      ],
      "id": "ec5051ae",
      "execution_count": 28,
      "outputs": []
    },
    {
      "cell_type": "markdown",
      "metadata": {
        "id": "da386a8b"
      },
      "source": [
        "### Set plot limits and text"
      ],
      "id": "da386a8b"
    },
    {
      "cell_type": "code",
      "metadata": {
        "id": "40aeff39"
      },
      "source": [
        "xmin = 1957\n",
        "xmax = todays_year + 2\n",
        "\n",
        "ymin = 310\n",
        "ymax = 425"
      ],
      "id": "40aeff39",
      "execution_count": null,
      "outputs": []
    },
    {
      "cell_type": "code",
      "metadata": {
        "id": "e93db534"
      },
      "source": [
        "xlabel = 'Year'\n",
        "ylabel = 'CO$_2$ Concentration (ppm)'\n",
        "\n",
        "title1 = 'Mauna Loa Observatory, Hawaii'\n",
        "title2 = 'Monthly Average Carbon Dioxide Concentration'\n",
        "title3 = f'Data from Scripps CO$_2$ Program     Last updated {todays_date_moyr}'"
      ],
      "id": "e93db534",
      "execution_count": null,
      "outputs": []
    },
    {
      "cell_type": "markdown",
      "metadata": {
        "id": "e845a189"
      },
      "source": [
        "## Load in Data and process"
      ],
      "id": "e845a189"
    },
    {
      "cell_type": "markdown",
      "metadata": {
        "id": "zVfCEMzt3klz"
      },
      "source": [
        "### Fix bad security certificate for scrippsco2.ucsd.edu"
      ],
      "id": "zVfCEMzt3klz"
    },
    {
      "cell_type": "code",
      "metadata": {
        "id": "HrRWn_UR3h0H"
      },
      "source": [
        "import ssl\n",
        "\n",
        "ssl._create_default_https_context = ssl._create_unverified_context"
      ],
      "id": "HrRWn_UR3h0H",
      "execution_count": 44,
      "outputs": []
    },
    {
      "cell_type": "code",
      "metadata": {
        "colab": {
          "base_uri": "https://localhost:8080/",
          "height": 204
        },
        "id": "2764b8ff",
        "outputId": "d33eaa41-bde9-4240-f115-9c123f77b59a"
      },
      "source": [
        "df = pd.read_csv(data_file,sep=',',comment='\"')\n",
        "df.head()"
      ],
      "id": "2764b8ff",
      "execution_count": 45,
      "outputs": [
        {
          "output_type": "execute_result",
          "data": {
            "text/html": [
              "<div>\n",
              "<style scoped>\n",
              "    .dataframe tbody tr th:only-of-type {\n",
              "        vertical-align: middle;\n",
              "    }\n",
              "\n",
              "    .dataframe tbody tr th {\n",
              "        vertical-align: top;\n",
              "    }\n",
              "\n",
              "    .dataframe thead th {\n",
              "        text-align: right;\n",
              "    }\n",
              "</style>\n",
              "<table border=\"1\" class=\"dataframe\">\n",
              "  <thead>\n",
              "    <tr style=\"text-align: right;\">\n",
              "      <th></th>\n",
              "      <th>Yr</th>\n",
              "      <th>Mn</th>\n",
              "      <th>Date</th>\n",
              "      <th>Date</th>\n",
              "      <th>CO2</th>\n",
              "      <th>seasonally</th>\n",
              "      <th>fit</th>\n",
              "      <th>seasonally</th>\n",
              "      <th>CO2</th>\n",
              "      <th>seasonally</th>\n",
              "    </tr>\n",
              "  </thead>\n",
              "  <tbody>\n",
              "    <tr>\n",
              "      <th>0</th>\n",
              "      <td></td>\n",
              "      <td></td>\n",
              "      <td></td>\n",
              "      <td></td>\n",
              "      <td></td>\n",
              "      <td>adjusted</td>\n",
              "      <td></td>\n",
              "      <td>adjusted fit</td>\n",
              "      <td>filled</td>\n",
              "      <td>adjusted filled</td>\n",
              "    </tr>\n",
              "    <tr>\n",
              "      <th>1</th>\n",
              "      <td></td>\n",
              "      <td></td>\n",
              "      <td>Excel</td>\n",
              "      <td></td>\n",
              "      <td>[ppm]</td>\n",
              "      <td>[ppm]</td>\n",
              "      <td>[ppm]</td>\n",
              "      <td>[ppm]</td>\n",
              "      <td>[ppm]</td>\n",
              "      <td>[ppm]</td>\n",
              "    </tr>\n",
              "    <tr>\n",
              "      <th>2</th>\n",
              "      <td>1958</td>\n",
              "      <td>01</td>\n",
              "      <td>21200</td>\n",
              "      <td>1958.0411</td>\n",
              "      <td>-99.99</td>\n",
              "      <td>-99.99</td>\n",
              "      <td>-99.99</td>\n",
              "      <td>-99.99</td>\n",
              "      <td>-99.99</td>\n",
              "      <td>-99.99</td>\n",
              "    </tr>\n",
              "    <tr>\n",
              "      <th>3</th>\n",
              "      <td>1958</td>\n",
              "      <td>02</td>\n",
              "      <td>21231</td>\n",
              "      <td>1958.1260</td>\n",
              "      <td>-99.99</td>\n",
              "      <td>-99.99</td>\n",
              "      <td>-99.99</td>\n",
              "      <td>-99.99</td>\n",
              "      <td>-99.99</td>\n",
              "      <td>-99.99</td>\n",
              "    </tr>\n",
              "    <tr>\n",
              "      <th>4</th>\n",
              "      <td>1958</td>\n",
              "      <td>03</td>\n",
              "      <td>21259</td>\n",
              "      <td>1958.2027</td>\n",
              "      <td>315.71</td>\n",
              "      <td>314.44</td>\n",
              "      <td>316.20</td>\n",
              "      <td>314.91</td>\n",
              "      <td>315.71</td>\n",
              "      <td>314.44</td>\n",
              "    </tr>\n",
              "  </tbody>\n",
              "</table>\n",
              "</div>"
            ],
            "text/plain": [
              "     Yr   Mn      Date  ...    seasonally           CO2       seasonally\n",
              "0                       ...  adjusted fit        filled  adjusted filled\n",
              "1                Excel  ...         [ppm]         [ppm]            [ppm]\n",
              "2  1958   01     21200  ...        -99.99        -99.99           -99.99\n",
              "3  1958   02     21231  ...        -99.99        -99.99           -99.99\n",
              "4  1958   03     21259  ...        314.91        315.71           314.44\n",
              "\n",
              "[5 rows x 10 columns]"
            ]
          },
          "metadata": {},
          "execution_count": 45
        }
      ]
    },
    {
      "cell_type": "code",
      "metadata": {
        "id": "81GUfNQd0I-o"
      },
      "source": [
        ""
      ],
      "id": "81GUfNQd0I-o",
      "execution_count": 33,
      "outputs": []
    },
    {
      "cell_type": "markdown",
      "metadata": {
        "id": "4d4b7e96"
      },
      "source": [
        "### Remove next two rows containing header information and change to numeric vals"
      ],
      "id": "4d4b7e96"
    },
    {
      "cell_type": "code",
      "metadata": {
        "id": "308138b6"
      },
      "source": [
        "df = df.iloc[2:]\n",
        "df = df.apply(pd.to_numeric)"
      ],
      "id": "308138b6",
      "execution_count": null,
      "outputs": []
    },
    {
      "cell_type": "markdown",
      "metadata": {
        "id": "b4b8a9af"
      },
      "source": [
        "### Rename column names to replace duplicate names"
      ],
      "id": "b4b8a9af"
    },
    {
      "cell_type": "code",
      "metadata": {
        "id": "17599b5f",
        "outputId": "af7ee8c5-a83f-434a-e4da-dbaef15d92a5"
      },
      "source": [
        "col_mapping ={df.columns[0]:'year', df.columns[1]: 'month', df.columns[2]: 'excel_date', \n",
        "              df.columns[3]: 'dec_date', df.columns[4]: 'co2', df.columns[5]: 'co2_seasonal',\n",
        "              df.columns[6]: 'co2_fit', df.columns[7]: 'co2_seasonal_fit', \n",
        "              df.columns[8]:'co2_filled', df.columns[9]: 'co2_seasonal_filled'}\n",
        "df = df.rename(columns=col_mapping)\n",
        "df.head()"
      ],
      "id": "17599b5f",
      "execution_count": null,
      "outputs": [
        {
          "data": {
            "text/html": [
              "<div>\n",
              "<style scoped>\n",
              "    .dataframe tbody tr th:only-of-type {\n",
              "        vertical-align: middle;\n",
              "    }\n",
              "\n",
              "    .dataframe tbody tr th {\n",
              "        vertical-align: top;\n",
              "    }\n",
              "\n",
              "    .dataframe thead th {\n",
              "        text-align: right;\n",
              "    }\n",
              "</style>\n",
              "<table border=\"1\" class=\"dataframe\">\n",
              "  <thead>\n",
              "    <tr style=\"text-align: right;\">\n",
              "      <th></th>\n",
              "      <th>year</th>\n",
              "      <th>month</th>\n",
              "      <th>excel_date</th>\n",
              "      <th>dec_date</th>\n",
              "      <th>co2</th>\n",
              "      <th>co2_seasonal</th>\n",
              "      <th>co2_fit</th>\n",
              "      <th>co2_seasonal_fit</th>\n",
              "      <th>co2_filled</th>\n",
              "      <th>co2_seasonal_filled</th>\n",
              "    </tr>\n",
              "  </thead>\n",
              "  <tbody>\n",
              "    <tr>\n",
              "      <th>2</th>\n",
              "      <td>1958</td>\n",
              "      <td>1</td>\n",
              "      <td>21200</td>\n",
              "      <td>1958.0411</td>\n",
              "      <td>-99.99</td>\n",
              "      <td>-99.99</td>\n",
              "      <td>-99.99</td>\n",
              "      <td>-99.99</td>\n",
              "      <td>-99.99</td>\n",
              "      <td>-99.99</td>\n",
              "    </tr>\n",
              "    <tr>\n",
              "      <th>3</th>\n",
              "      <td>1958</td>\n",
              "      <td>2</td>\n",
              "      <td>21231</td>\n",
              "      <td>1958.1260</td>\n",
              "      <td>-99.99</td>\n",
              "      <td>-99.99</td>\n",
              "      <td>-99.99</td>\n",
              "      <td>-99.99</td>\n",
              "      <td>-99.99</td>\n",
              "      <td>-99.99</td>\n",
              "    </tr>\n",
              "    <tr>\n",
              "      <th>4</th>\n",
              "      <td>1958</td>\n",
              "      <td>3</td>\n",
              "      <td>21259</td>\n",
              "      <td>1958.2027</td>\n",
              "      <td>315.70</td>\n",
              "      <td>314.43</td>\n",
              "      <td>316.19</td>\n",
              "      <td>314.90</td>\n",
              "      <td>315.70</td>\n",
              "      <td>314.43</td>\n",
              "    </tr>\n",
              "    <tr>\n",
              "      <th>5</th>\n",
              "      <td>1958</td>\n",
              "      <td>4</td>\n",
              "      <td>21290</td>\n",
              "      <td>1958.2877</td>\n",
              "      <td>317.45</td>\n",
              "      <td>315.16</td>\n",
              "      <td>317.30</td>\n",
              "      <td>314.98</td>\n",
              "      <td>317.45</td>\n",
              "      <td>315.16</td>\n",
              "    </tr>\n",
              "    <tr>\n",
              "      <th>6</th>\n",
              "      <td>1958</td>\n",
              "      <td>5</td>\n",
              "      <td>21320</td>\n",
              "      <td>1958.3699</td>\n",
              "      <td>317.51</td>\n",
              "      <td>314.71</td>\n",
              "      <td>317.86</td>\n",
              "      <td>315.06</td>\n",
              "      <td>317.51</td>\n",
              "      <td>314.71</td>\n",
              "    </tr>\n",
              "  </tbody>\n",
              "</table>\n",
              "</div>"
            ],
            "text/plain": [
              "   year  month  excel_date   dec_date     co2  co2_seasonal  co2_fit  \\\n",
              "2  1958      1       21200  1958.0411  -99.99        -99.99   -99.99   \n",
              "3  1958      2       21231  1958.1260  -99.99        -99.99   -99.99   \n",
              "4  1958      3       21259  1958.2027  315.70        314.43   316.19   \n",
              "5  1958      4       21290  1958.2877  317.45        315.16   317.30   \n",
              "6  1958      5       21320  1958.3699  317.51        314.71   317.86   \n",
              "\n",
              "   co2_seasonal_fit  co2_filled  co2_seasonal_filled  \n",
              "2            -99.99      -99.99               -99.99  \n",
              "3            -99.99      -99.99               -99.99  \n",
              "4            314.90      315.70               314.43  \n",
              "5            314.98      317.45               315.16  \n",
              "6            315.06      317.51               314.71  "
            ]
          },
          "execution_count": 53,
          "metadata": {},
          "output_type": "execute_result"
        }
      ]
    },
    {
      "cell_type": "markdown",
      "metadata": {
        "id": "9792df54"
      },
      "source": [
        "### Break into 2 dataframes. One for CO2 and one for the CO2 spline\n",
        "The decimal date is the midpoint of each month"
      ],
      "id": "9792df54"
    },
    {
      "cell_type": "code",
      "metadata": {
        "id": "6b167c31"
      },
      "source": [
        "df_co2 = df[['dec_date', 'co2']].copy()\n",
        "df_co2_spline = df[['dec_date', 'co2_fit']].copy()"
      ],
      "id": "6b167c31",
      "execution_count": null,
      "outputs": []
    },
    {
      "cell_type": "markdown",
      "metadata": {
        "id": "37e7857d"
      },
      "source": [
        "### Remove CO2 rows and CO2 spline rows with fill values -99.99"
      ],
      "id": "37e7857d"
    },
    {
      "cell_type": "code",
      "metadata": {
        "scrolled": true,
        "id": "5b917a69"
      },
      "source": [
        "df_co2 = df_co2[df_co2['co2'] != -99.99]\n",
        "df_co2_spline = df_co2_spline[df_co2_spline['co2_fit'] != -99.99]"
      ],
      "id": "5b917a69",
      "execution_count": null,
      "outputs": []
    },
    {
      "cell_type": "markdown",
      "metadata": {
        "id": "85ab8af4"
      },
      "source": [
        "### Convert to numpy arrays for plotting"
      ],
      "id": "85ab8af4"
    },
    {
      "cell_type": "code",
      "metadata": {
        "id": "18a3a46c"
      },
      "source": [
        "date_co2 = df_co2['dec_date'].to_numpy()\n",
        "co2 = df_co2['co2'].to_numpy()\n",
        "date_co2_spline = df_co2_spline['dec_date'].to_numpy()\n",
        "co2_spline = df_co2_spline['co2_fit'].to_numpy()"
      ],
      "id": "18a3a46c",
      "execution_count": null,
      "outputs": []
    },
    {
      "cell_type": "markdown",
      "metadata": {
        "id": "0645354e"
      },
      "source": [
        "# Create  Plot"
      ],
      "id": "0645354e"
    },
    {
      "cell_type": "markdown",
      "metadata": {
        "id": "7b9a40a1"
      },
      "source": [
        "### Set plot properties, add logo, and save to png and files"
      ],
      "id": "7b9a40a1"
    },
    {
      "cell_type": "code",
      "metadata": {
        "id": "4d55c1ac",
        "outputId": "b93f1857-0dff-455e-ddd0-5137ac400948"
      },
      "source": [
        "fig = plt.figure()\n",
        "ax = fig.add_subplot()\n",
        "\n",
        "# -------------\n",
        "# Plot the data\n",
        "# -------------\n",
        "\n",
        "ax.plot(date_co2, co2, 'o', color='black',\n",
        "         markersize=3.5, linewidth=1,\n",
        "         markerfacecolor='black', markeredgecolor='black', markeredgewidth=0)\n",
        "\n",
        "ax.plot(date_co2_spline, co2_spline, '-', color='black', linewidth=0.5)\n",
        "\n",
        "\n",
        "# -------------------\n",
        "# Set plot properties\n",
        "# -------------------\n",
        "set_website_plot_props(ax)\n",
        "\n",
        "# ---------------\n",
        "# Add plot titles\n",
        "# ---------------\n",
        "add_3_plot_titles(ax, title1, title2, title3)\n",
        "\n",
        "# --------------------\n",
        "# Add SIO logo to plot\n",
        "# --------------------\n",
        "add_sio_logo(logo_file)\n",
        "\n",
        "# ---------------------\n",
        "# Save plot for website\n",
        "# ---------------------\n",
        "fig = plt.gcf()\n",
        "\n",
        "\n",
        "# See following for saving images\n",
        "# https://stackoverflow.com/questions/50953856/saving-or-downloading-matplotlib-plot-images-on-google-colaboratory\n",
        "\n",
        "# import matplotlib.pyplot as plt\n",
        "# from google.colab import files\n",
        "\n",
        "# test = plt.figure()\n",
        "# plt.plot([[1, 2, 3], [5, 2, 3]])\n",
        "# plt.figure(figsize=(50,50))\n",
        "# test.show()\n",
        "\n",
        "# test.savefig('samplefigure.png')\n",
        "# files.download('samplefigure.png')\n",
        "\n",
        "\n",
        "save_plot_for_website(fig, pdf_file, png_file)\n",
        "\n",
        "\n",
        "plt.show()"
      ],
      "id": "4d55c1ac",
      "execution_count": null,
      "outputs": [
        {
          "data": {
            "image/png": "[encoded data removed]",
            "text/plain": [
              "<Figure size 864x667.636 with 2 Axes>"
            ]
          },
          "metadata": {
            "needs_background": "light"
          },
          "output_type": "display_data"
        }
      ]
    },
    {
      "cell_type": "code",
      "metadata": {
        "id": "d9cd3aad"
      },
      "source": [
        ""
      ],
      "id": "d9cd3aad",
      "execution_count": null,
      "outputs": []
    }
  ]
}