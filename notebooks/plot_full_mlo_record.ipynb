{
  "nbformat": 4,
  "nbformat_minor": 5,
  "metadata": {
    "kernelspec": {
      "display_name": "Python 3 (ipykernel)",
      "language": "python",
      "name": "python3"
    },
    "language_info": {
      "codemirror_mode": {
        "name": "ipython",
        "version": 3
      },
      "file_extension": ".py",
      "mimetype": "text/x-python",
      "name": "python",
      "nbconvert_exporter": "python",
      "pygments_lexer": "ipython3",
      "version": "3.8.5"
    },
    "colab": {
      "name": "plot_full_mlo_record.ipynb",
      "provenance": [],
      "include_colab_link": true
    },
    "widgets": {
      "application/vnd.jupyter.widget-state+json": {
        "82d0bf2ad051496d8d6c81d7721c34b6": {
          "model_module": "@jupyter-widgets/controls",
          "model_name": "ButtonModel",
          "model_module_version": "1.5.0",
          "state": {
            "_view_name": "ButtonView",
            "style": "IPY_MODEL_6c1c49e464174253a758218302e7e1cf",
            "_dom_classes": [],
            "description": "Download Files",
            "_model_name": "ButtonModel",
            "button_style": "primary",
            "_view_module": "@jupyter-widgets/controls",
            "_model_module_version": "1.5.0",
            "tooltip": "",
            "_view_count": null,
            "disabled": false,
            "_view_module_version": "1.5.0",
            "layout": "IPY_MODEL_ed5c4af910e542ca872d7f90c958866f",
            "_model_module": "@jupyter-widgets/controls",
            "icon": ""
          }
        },
        "6c1c49e464174253a758218302e7e1cf": {
          "model_module": "@jupyter-widgets/controls",
          "model_name": "ButtonStyleModel",
          "model_module_version": "1.5.0",
          "state": {
            "_view_name": "StyleView",
            "_model_name": "ButtonStyleModel",
            "_view_module": "@jupyter-widgets/base",
            "_model_module_version": "1.5.0",
            "_view_count": null,
            "button_color": null,
            "font_weight": "",
            "_view_module_version": "1.2.0",
            "_model_module": "@jupyter-widgets/controls"
          }
        },
        "ed5c4af910e542ca872d7f90c958866f": {
          "model_module": "@jupyter-widgets/base",
          "model_name": "LayoutModel",
          "model_module_version": "1.2.0",
          "state": {
            "_view_name": "LayoutView",
            "grid_template_rows": null,
            "right": null,
            "justify_content": null,
            "_view_module": "@jupyter-widgets/base",
            "overflow": null,
            "_model_module_version": "1.2.0",
            "_view_count": null,
            "flex_flow": null,
            "width": null,
            "min_width": null,
            "border": null,
            "align_items": null,
            "bottom": null,
            "_model_module": "@jupyter-widgets/base",
            "top": null,
            "grid_column": null,
            "overflow_y": null,
            "overflow_x": null,
            "grid_auto_flow": null,
            "grid_area": null,
            "grid_template_columns": null,
            "flex": null,
            "_model_name": "LayoutModel",
            "justify_items": null,
            "grid_row": null,
            "max_height": null,
            "align_content": null,
            "visibility": null,
            "align_self": null,
            "height": null,
            "min_height": null,
            "padding": null,
            "grid_auto_rows": null,
            "grid_gap": null,
            "max_width": null,
            "order": null,
            "_view_module_version": "1.2.0",
            "grid_template_areas": null,
            "object_position": null,
            "object_fit": null,
            "grid_auto_columns": null,
            "margin": null,
            "display": null,
            "left": null
          }
        }
      }
    }
  },
  "cells": [
    {
      "cell_type": "markdown",
      "metadata": {
        "id": "view-in-github",
        "colab_type": "text"
      },
      "source": [
        "<a href=\"https://colab.research.google.com/github/lmerchant/scrippsco2_notebooks/blob/main/notebooks/plot_full_mlo_record.ipynb\" target=\"_parent\"><img src=\"https://colab.research.google.com/assets/colab-badge.svg\" alt=\"Open In Colab\"/></a>"
      ]
    },
    {
      "cell_type": "markdown",
      "metadata": {
        "id": "d94b83b3"
      },
      "source": [
        "# Plot full record of Mauna Loa in-situ data"
      ],
      "id": "d94b83b3"
    },
    {
      "cell_type": "code",
      "metadata": {
        "id": "0cd61aa7"
      },
      "source": [
        "%matplotlib inline\n",
        "import ssl\n",
        "import pandas as pd\n",
        "import numpy as np\n",
        "import pathlib\n",
        "from datetime import datetime, date\n",
        "from pathlib import Path\n",
        "from google.colab import files\n",
        "import matplotlib.image as mpimg\n",
        "import matplotlib.pyplot as plt\n",
        "from matplotlib.pyplot import figure\n",
        "from matplotlib import ticker\n",
        "from matplotlib import rc,rcParams\n",
        "from matplotlib import animation\n",
        "import IPython\n",
        "from IPython.display import Javascript, display\n",
        "from IPython.utils import io\n",
        "from ipywidgets import widgets\n",
        "import certifi\n",
        "from IPython.display import HTML\n",
        "from base64 import b64encode"
      ],
      "id": "0cd61aa7",
      "execution_count": 1,
      "outputs": []
    },
    {
      "cell_type": "markdown",
      "metadata": {
        "id": "0ee378f8"
      },
      "source": [
        "### Set directories and file names for data and plot"
      ],
      "id": "0ee378f8"
    },
    {
      "cell_type": "code",
      "metadata": {
        "id": "804adc16"
      },
      "source": [
        "insitu_data_dir = 'https://scrippsco2.ucsd.edu/assets/data/atmospheric/stations/in_situ_co2/monthly'\n",
        "\n",
        "monthly_mlo_file = 'monthly_in_situ_co2_mlo.csv'\n",
        "data_url = f\"{insitu_data_dir}/{monthly_mlo_file}\" \n",
        "\n",
        "plot_dir = pathlib.Path('./plots')\n",
        "plot_dir.mkdir(exist_ok=True)\n",
        "\n",
        "pdf_file = plot_dir / 'mlo_record.pdf'\n",
        "png_file = plot_dir / 'mlo_record.png'"
      ],
      "id": "804adc16",
      "execution_count": 9,
      "outputs": []
    },
    {
      "cell_type": "markdown",
      "metadata": {
        "id": "e845a189"
      },
      "source": [
        "# Load in Data and process"
      ],
      "id": "e845a189"
    },
    {
      "cell_type": "markdown",
      "metadata": {
        "id": "PDm-G3miBFbk"
      },
      "source": [
        "### Import data using Pandas"
      ],
      "id": "PDm-G3miBFbk"
    },
    {
      "cell_type": "code",
      "metadata": {
        "colab": {
          "base_uri": "https://localhost:8080/",
          "height": 206
        },
        "id": "2764b8ff",
        "outputId": "50ebdee9-3ea2-49a1-e781-f66fe61eadce"
      },
      "source": [
        "# https://scrippsco2.ucsd.edu gives invalid SSL certificate\n",
        "# This is fix to get around that\n",
        "ssl._create_default_https_context = ssl._create_unverified_context\n",
        "\n",
        "# Then can get data with pandas through url\n",
        "df = pd.read_csv(data_url, comment='\"', skipinitialspace=True)\n",
        "df.head()"
      ],
      "id": "2764b8ff",
      "execution_count": 12,
      "outputs": [
        {
          "output_type": "execute_result",
          "data": {
            "text/html": [
              "<div>\n",
              "<style scoped>\n",
              "    .dataframe tbody tr th:only-of-type {\n",
              "        vertical-align: middle;\n",
              "    }\n",
              "\n",
              "    .dataframe tbody tr th {\n",
              "        vertical-align: top;\n",
              "    }\n",
              "\n",
              "    .dataframe thead th {\n",
              "        text-align: right;\n",
              "    }\n",
              "</style>\n",
              "<table border=\"1\" class=\"dataframe\">\n",
              "  <thead>\n",
              "    <tr style=\"text-align: right;\">\n",
              "      <th></th>\n",
              "      <th>Yr</th>\n",
              "      <th>Mn</th>\n",
              "      <th>Date</th>\n",
              "      <th>Date.1</th>\n",
              "      <th>CO2</th>\n",
              "      <th>seasonally</th>\n",
              "      <th>fit</th>\n",
              "      <th>seasonally.1</th>\n",
              "      <th>CO2.1</th>\n",
              "      <th>seasonally.2</th>\n",
              "    </tr>\n",
              "  </thead>\n",
              "  <tbody>\n",
              "    <tr>\n",
              "      <th>0</th>\n",
              "      <td>NaN</td>\n",
              "      <td>NaN</td>\n",
              "      <td>NaN</td>\n",
              "      <td>NaN</td>\n",
              "      <td>NaN</td>\n",
              "      <td>adjusted</td>\n",
              "      <td>NaN</td>\n",
              "      <td>adjusted fit</td>\n",
              "      <td>filled</td>\n",
              "      <td>adjusted filled</td>\n",
              "    </tr>\n",
              "    <tr>\n",
              "      <th>1</th>\n",
              "      <td>NaN</td>\n",
              "      <td>NaN</td>\n",
              "      <td>Excel</td>\n",
              "      <td>NaN</td>\n",
              "      <td>[ppm]</td>\n",
              "      <td>[ppm]</td>\n",
              "      <td>[ppm]</td>\n",
              "      <td>[ppm]</td>\n",
              "      <td>[ppm]</td>\n",
              "      <td>[ppm]</td>\n",
              "    </tr>\n",
              "    <tr>\n",
              "      <th>2</th>\n",
              "      <td>1958.0</td>\n",
              "      <td>1.0</td>\n",
              "      <td>21200</td>\n",
              "      <td>1958.0411</td>\n",
              "      <td>-99.99</td>\n",
              "      <td>-99.99</td>\n",
              "      <td>-99.99</td>\n",
              "      <td>-99.99</td>\n",
              "      <td>-99.99</td>\n",
              "      <td>-99.99</td>\n",
              "    </tr>\n",
              "    <tr>\n",
              "      <th>3</th>\n",
              "      <td>1958.0</td>\n",
              "      <td>2.0</td>\n",
              "      <td>21231</td>\n",
              "      <td>1958.1260</td>\n",
              "      <td>-99.99</td>\n",
              "      <td>-99.99</td>\n",
              "      <td>-99.99</td>\n",
              "      <td>-99.99</td>\n",
              "      <td>-99.99</td>\n",
              "      <td>-99.99</td>\n",
              "    </tr>\n",
              "    <tr>\n",
              "      <th>4</th>\n",
              "      <td>1958.0</td>\n",
              "      <td>3.0</td>\n",
              "      <td>21259</td>\n",
              "      <td>1958.2027</td>\n",
              "      <td>315.71</td>\n",
              "      <td>314.43</td>\n",
              "      <td>316.20</td>\n",
              "      <td>314.91</td>\n",
              "      <td>315.71</td>\n",
              "      <td>314.43</td>\n",
              "    </tr>\n",
              "  </tbody>\n",
              "</table>\n",
              "</div>"
            ],
            "text/plain": [
              "       Yr   Mn   Date     Date.1  ...     fit  seasonally.1   CO2.1     seasonally.2\n",
              "0     NaN  NaN    NaN        NaN  ...     NaN  adjusted fit  filled  adjusted filled\n",
              "1     NaN  NaN  Excel        NaN  ...   [ppm]         [ppm]   [ppm]            [ppm]\n",
              "2  1958.0  1.0  21200  1958.0411  ...  -99.99        -99.99  -99.99           -99.99\n",
              "3  1958.0  2.0  21231  1958.1260  ...  -99.99        -99.99  -99.99           -99.99\n",
              "4  1958.0  3.0  21259  1958.2027  ...  316.20        314.91  315.71           314.43\n",
              "\n",
              "[5 rows x 10 columns]"
            ]
          },
          "metadata": {},
          "execution_count": 12
        }
      ]
    },
    {
      "cell_type": "markdown",
      "metadata": {
        "id": "4d4b7e96"
      },
      "source": [
        "### Remove next two rows containing header information and change to numeric vals"
      ],
      "id": "4d4b7e96"
    },
    {
      "cell_type": "code",
      "metadata": {
        "id": "308138b6"
      },
      "source": [
        "# There are 3 header lines and will skip the 2nd and 3rd along with renaming the first header line cols\n",
        "# Since read in strings from the extra header lines, convert columns back to numeric values\n",
        "df = df.iloc[2:]\n",
        "df = df.apply(pd.to_numeric)"
      ],
      "id": "308138b6",
      "execution_count": 13,
      "outputs": []
    },
    {
      "cell_type": "markdown",
      "metadata": {
        "id": "b4b8a9af"
      },
      "source": [
        "### Rename column names to replace duplicate names"
      ],
      "id": "b4b8a9af"
    },
    {
      "cell_type": "code",
      "metadata": {
        "id": "17599b5f",
        "colab": {
          "base_uri": "https://localhost:8080/",
          "height": 206
        },
        "outputId": "6c481d54-1929-4f88-d41e-9b8db053a2e8"
      },
      "source": [
        "col_mapping ={df.columns[0]:'year', df.columns[1]: 'month', df.columns[2]: 'excel_date', \n",
        "              df.columns[3]: 'dec_date', df.columns[4]: 'co2', df.columns[5]: 'co2_seasonal',\n",
        "              df.columns[6]: 'co2_fit', df.columns[7]: 'co2_seasonal_fit', \n",
        "              df.columns[8]:'co2_filled', df.columns[9]: 'co2_seasonal_filled'}\n",
        "df = df.rename(columns=col_mapping)\n",
        "df.head()"
      ],
      "id": "17599b5f",
      "execution_count": null,
      "outputs": [
        {
          "output_type": "execute_result",
          "data": {
            "text/html": [
              "<div>\n",
              "<style scoped>\n",
              "    .dataframe tbody tr th:only-of-type {\n",
              "        vertical-align: middle;\n",
              "    }\n",
              "\n",
              "    .dataframe tbody tr th {\n",
              "        vertical-align: top;\n",
              "    }\n",
              "\n",
              "    .dataframe thead th {\n",
              "        text-align: right;\n",
              "    }\n",
              "</style>\n",
              "<table border=\"1\" class=\"dataframe\">\n",
              "  <thead>\n",
              "    <tr style=\"text-align: right;\">\n",
              "      <th></th>\n",
              "      <th>year</th>\n",
              "      <th>month</th>\n",
              "      <th>excel_date</th>\n",
              "      <th>dec_date</th>\n",
              "      <th>co2</th>\n",
              "      <th>co2_seasonal</th>\n",
              "      <th>co2_fit</th>\n",
              "      <th>co2_seasonal_fit</th>\n",
              "      <th>co2_filled</th>\n",
              "      <th>co2_seasonal_filled</th>\n",
              "    </tr>\n",
              "  </thead>\n",
              "  <tbody>\n",
              "    <tr>\n",
              "      <th>2</th>\n",
              "      <td>1958</td>\n",
              "      <td>1</td>\n",
              "      <td>21200</td>\n",
              "      <td>1958.0411</td>\n",
              "      <td>-99.99</td>\n",
              "      <td>-99.99</td>\n",
              "      <td>-99.99</td>\n",
              "      <td>-99.99</td>\n",
              "      <td>-99.99</td>\n",
              "      <td>-99.99</td>\n",
              "    </tr>\n",
              "    <tr>\n",
              "      <th>3</th>\n",
              "      <td>1958</td>\n",
              "      <td>2</td>\n",
              "      <td>21231</td>\n",
              "      <td>1958.1260</td>\n",
              "      <td>-99.99</td>\n",
              "      <td>-99.99</td>\n",
              "      <td>-99.99</td>\n",
              "      <td>-99.99</td>\n",
              "      <td>-99.99</td>\n",
              "      <td>-99.99</td>\n",
              "    </tr>\n",
              "    <tr>\n",
              "      <th>4</th>\n",
              "      <td>1958</td>\n",
              "      <td>3</td>\n",
              "      <td>21259</td>\n",
              "      <td>1958.2027</td>\n",
              "      <td>315.71</td>\n",
              "      <td>314.44</td>\n",
              "      <td>316.20</td>\n",
              "      <td>314.91</td>\n",
              "      <td>315.71</td>\n",
              "      <td>314.44</td>\n",
              "    </tr>\n",
              "    <tr>\n",
              "      <th>5</th>\n",
              "      <td>1958</td>\n",
              "      <td>4</td>\n",
              "      <td>21290</td>\n",
              "      <td>1958.2877</td>\n",
              "      <td>317.45</td>\n",
              "      <td>315.16</td>\n",
              "      <td>317.30</td>\n",
              "      <td>314.99</td>\n",
              "      <td>317.45</td>\n",
              "      <td>315.16</td>\n",
              "    </tr>\n",
              "    <tr>\n",
              "      <th>6</th>\n",
              "      <td>1958</td>\n",
              "      <td>5</td>\n",
              "      <td>21320</td>\n",
              "      <td>1958.3699</td>\n",
              "      <td>317.51</td>\n",
              "      <td>314.71</td>\n",
              "      <td>317.87</td>\n",
              "      <td>315.07</td>\n",
              "      <td>317.51</td>\n",
              "      <td>314.71</td>\n",
              "    </tr>\n",
              "  </tbody>\n",
              "</table>\n",
              "</div>"
            ],
            "text/plain": [
              "   year  month  excel_date  ...  co2_seasonal_fit  co2_filled  co2_seasonal_filled\n",
              "2  1958      1       21200  ...            -99.99      -99.99               -99.99\n",
              "3  1958      2       21231  ...            -99.99      -99.99               -99.99\n",
              "4  1958      3       21259  ...            314.91      315.71               314.44\n",
              "5  1958      4       21290  ...            314.99      317.45               315.16\n",
              "6  1958      5       21320  ...            315.07      317.51               314.71\n",
              "\n",
              "[5 rows x 10 columns]"
            ]
          },
          "metadata": {},
          "execution_count": 5
        }
      ]
    },
    {
      "cell_type": "markdown",
      "metadata": {
        "id": "9792df54"
      },
      "source": [
        "### Break into 2 dataframes. One for CO2 and one for the CO2 spline\n",
        "The decimal date is the midpoint of each month"
      ],
      "id": "9792df54"
    },
    {
      "cell_type": "code",
      "metadata": {
        "id": "6b167c31"
      },
      "source": [
        "df_co2 = df[['dec_date', 'co2']].copy()\n",
        "df_co2_spline = df[['dec_date', 'co2_fit']].copy()"
      ],
      "id": "6b167c31",
      "execution_count": null,
      "outputs": []
    },
    {
      "cell_type": "markdown",
      "metadata": {
        "id": "37e7857d"
      },
      "source": [
        "### Remove CO2 rows and CO2 spline rows with fill values -99.99"
      ],
      "id": "37e7857d"
    },
    {
      "cell_type": "code",
      "metadata": {
        "scrolled": true,
        "id": "5b917a69"
      },
      "source": [
        "df_co2 = df_co2[df_co2['co2'] != -99.99]\n",
        "df_co2_spline = df_co2_spline[df_co2_spline['co2_fit'] != -99.99]"
      ],
      "id": "5b917a69",
      "execution_count": null,
      "outputs": []
    },
    {
      "cell_type": "markdown",
      "metadata": {
        "id": "85ab8af4"
      },
      "source": [
        "### Convert to numpy arrays for plotting"
      ],
      "id": "85ab8af4"
    },
    {
      "cell_type": "code",
      "metadata": {
        "id": "18a3a46c"
      },
      "source": [
        "date_co2 = df_co2['dec_date'].to_numpy()\n",
        "co2 = df_co2['co2'].to_numpy()\n",
        "date_co2_spline = df_co2_spline['dec_date'].to_numpy()\n",
        "co2_spline = df_co2_spline['co2_fit'].to_numpy()"
      ],
      "id": "18a3a46c",
      "execution_count": null,
      "outputs": []
    },
    {
      "cell_type": "markdown",
      "metadata": {
        "id": "0645354e"
      },
      "source": [
        "# Plotting functions"
      ],
      "id": "0645354e"
    },
    {
      "cell_type": "markdown",
      "metadata": {
        "id": "71rMJz01OUDo"
      },
      "source": [
        "### Get todays date"
      ],
      "id": "71rMJz01OUDo"
    },
    {
      "cell_type": "code",
      "metadata": {
        "id": "zG99l_LTW4-j"
      },
      "source": [
        "def get_todays_date():\n",
        "\n",
        "    # Get variations of todays date\n",
        "\n",
        "    def dt_to_dec(dt):\n",
        "        \"\"\"Convert a datetime to decimal year.\"\"\"\n",
        "        year_start = datetime(dt.year, 1, 1)\n",
        "        year_end = year_start.replace(year=dt.year+1)\n",
        "        return dt.year + (dt - year_start) / (year_end - year_start)\n",
        "\n",
        "    today = date.today()\n",
        "    today_with_time = datetime(\n",
        "        year=today.year, month=today.month, day=today.day)\n",
        "\n",
        "    today_decimal = dt_to_dec(today_with_time)\n",
        "\n",
        "    todays_day = today.day\n",
        "    todays_month = today.strftime(\"%B\")\n",
        "    todays_year = today.year\n",
        "    todays_date_moyr = today.strftime(\"%B %Y\")\n",
        "    todays_date_modyyr = f\"{todays_month} {todays_day}, {todays_year}\"\n",
        "\n",
        "    return todays_date_moyr, todays_date_modyyr, today_decimal, todays_year"
      ],
      "id": "zG99l_LTW4-j",
      "execution_count": null,
      "outputs": []
    },
    {
      "cell_type": "markdown",
      "metadata": {
        "id": "M1b68HyOXGZ9"
      },
      "source": [
        "### Get archive date from file"
      ],
      "id": "M1b68HyOXGZ9"
    },
    {
      "cell_type": "code",
      "metadata": {
        "id": "YcnTewORXNEi"
      },
      "source": [
        "def get_file_archive_date(data_file):\n",
        "\n",
        "    # Sample archive line from file\n",
        "    # \" Baseline data in this file through 01-Jul-2021 from archive dated 02-Jul-2021 09:04:47    \"\n",
        "\n",
        "    pattern_archive = re.compile(\"archive\")\n",
        "    pattern_archive_date = re.compile(r'archive dated (\\d\\d-\\w{3}-\\d\\d\\d\\d)')\n",
        "\n",
        "    for line in open(data_file):\n",
        "        for match in re.finditer(pattern_archive, line):\n",
        "            m = pattern_archive_date.search(line)\n",
        "            archive_date = m.group(1)\n",
        "            archive_datetime = datetime.strptime(archive_date, '%d-%b-%Y')\n",
        "            # Reformat to Month name Month day, Month year\n",
        "            month = archive_datetime.strftime(\"%B\")\n",
        "            archive_date = f\"{month} {archive_datetime.day}, {archive_datetime.year}\"\n",
        "            break\n",
        "\n",
        "    return archive_date"
      ],
      "id": "YcnTewORXNEi",
      "execution_count": null,
      "outputs": []
    },
    {
      "cell_type": "markdown",
      "metadata": {
        "id": "NetYxOq9bRyp"
      },
      "source": [
        "### Set plot titles"
      ],
      "id": "NetYxOq9bRyp"
    },
    {
      "cell_type": "code",
      "metadata": {
        "id": "l9OqzT9MbRFw"
      },
      "source": [
        "def add_3_plot_titles(fig, ax, title1, title2, title3):\n",
        "\n",
        "    # Allow room at top for the 3 titles\n",
        "    fig.subplots_adjust(top=0.85)\n",
        "\n",
        "    # Set font properties\n",
        "    rcParams.update({\n",
        "      'font.family':'sans-serif',\n",
        "      'font.weight':'bold',\n",
        "      'font.sans-serif':['Liberation Sans', 'DejaVu Sans']\n",
        "    })\n",
        "\n",
        "    # position titles above plot\n",
        "    ax.annotate(title1, xy=(0, 1.15), xycoords='axes fraction', fontsize=21,\n",
        "                horizontalalignment='left', verticalalignment='top')\n",
        "    ax.annotate(title2, xy=(0, 1.095), xycoords='axes fraction', fontsize=21,\n",
        "                horizontalalignment='left', verticalalignment='top')\n",
        "    ax.annotate(title3, xy=(0, 1.04), xycoords='axes fraction', fontsize=12, fontweight='normal',\n",
        "                horizontalalignment='left', verticalalignment='top')"
      ],
      "id": "l9OqzT9MbRFw",
      "execution_count": null,
      "outputs": []
    },
    {
      "cell_type": "markdown",
      "metadata": {
        "id": "3Fg42HUuYezW"
      },
      "source": [
        "### Set plot ticks and axis properties"
      ],
      "id": "3Fg42HUuYezW"
    },
    {
      "cell_type": "code",
      "metadata": {
        "id": "mJUoztEzYnZ1"
      },
      "source": [
        "def set_axis_tick_props(fig, ax, xmin, xmax, ymin, ymax):\n",
        "\n",
        "    # activate latex text rendering\n",
        "    rc('axes', linewidth=1)\n",
        "\n",
        "    ax.set_xlim(xmin, xmax)\n",
        "    ax.set_ylim(ymin, ymax)\n",
        "    \n",
        "    # Set tick labels font\n",
        "    rcParams.update({\n",
        "      'font.family':'sans-serif',\n",
        "      'font.weight':'bold',\n",
        "      'font.sans-serif':['Liberation Sans', 'DejaVu Sans']\n",
        "    })\n",
        "        \n",
        "    ax.tick_params(which='both', bottom=True, top=True, left=True, right=True)\n",
        "\n",
        "    ax.tick_params(axis='x', labelsize=14)\n",
        "    ax.tick_params(axis='y', labelsize=16)\n",
        "\n",
        "    ax.tick_params(which='major', direction='in', length=9, width=1)\n",
        "\n",
        "    xaxis_tick_spacing = 5\n",
        "    ax.xaxis.set_major_locator(ticker.MultipleLocator(xaxis_tick_spacing))\n",
        "\n",
        "    yaxis_tick_spacing = 5\n",
        "    ax.yaxis.set_major_locator(ticker.MultipleLocator(yaxis_tick_spacing))\n",
        "\n",
        "    # Display every other y major tick label\n",
        "    for label in ax.yaxis.get_ticklabels()[::2]:\n",
        "        label.set_visible(False)\n",
        "\n",
        "    ax.tick_params(which='minor', direction='in', length=4)\n",
        "    ax.xaxis.set_minor_locator(ticker.AutoMinorLocator(5))\n",
        "    ax.yaxis.set_minor_locator(ticker.AutoMinorLocator(5))"
      ],
      "id": "mJUoztEzYnZ1",
      "execution_count": null,
      "outputs": []
    },
    {
      "cell_type": "markdown",
      "metadata": {
        "id": "_FJsXejoZfFK"
      },
      "source": [
        "### Get SIO logo"
      ],
      "id": "_FJsXejoZfFK"
    },
    {
      "cell_type": "code",
      "metadata": {
        "id": "AJ1dGViMZf8W"
      },
      "source": [
        "def add_sio_logo(fig):\n",
        "\n",
        "    # Get logo from Github repo\n",
        "    \n",
        "    # Suppress output from curl\n",
        "    with io.capture_output() as captured:\n",
        "        !curl -O https://raw.githubusercontent.com/lmerchant/scrippsco2_notebooks/main/images/sio_logo.png\n",
        "\n",
        "    img_file = '/content/sio_logo.png'\n",
        "\n",
        "    logo = mpimg.imread(img_file)\n",
        "\n",
        "    newax = fig.add_axes([0.73, 0.18, 0.2, 0.2], anchor='SE', zorder=1)\n",
        "\n",
        "    plt.imshow(logo)\n",
        "\n",
        "    plt.axis('off')\n"
      ],
      "id": "AJ1dGViMZf8W",
      "execution_count": null,
      "outputs": []
    },
    {
      "cell_type": "markdown",
      "metadata": {
        "id": "d2wq2h3zcvzj"
      },
      "source": [
        "### Save plot"
      ],
      "id": "d2wq2h3zcvzj"
    },
    {
      "cell_type": "code",
      "metadata": {
        "id": "ZDbX1VtNc1Hp"
      },
      "source": [
        "def save_plot_pdf_png(fig, pdf_file, png_file):\n",
        "\n",
        "    # Save plot as  pdf and png for scrippsco2 website\n",
        "\n",
        "    # For pdf\n",
        "    width_in = 11\n",
        "    height_in = 8.5\n",
        "    fig.set_size_inches(width_in, height_in)\n",
        "\n",
        "    plt.subplots_adjust(left=0.109, right=0.95, top=0.85, bottom=0.15)\n",
        "\n",
        "    fig.savefig(pdf_file, facecolor='w', edgecolor='w',\n",
        "                orientation='landscape', format=None,\n",
        "                transparent=False, pad_inches=0)\n",
        "\n",
        "    # For png\n",
        "    width_px = 1200\n",
        "    height_px = (height_in/width_in) * width_px\n",
        "\n",
        "    png_dpi = 100\n",
        "    fig.set_size_inches(width_px/png_dpi, height_px/png_dpi)\n",
        "\n",
        "    fig.savefig(png_file, facecolor='w', edgecolor='w',\n",
        "                orientation='landscape', dpi=png_dpi, pad_inches=0)"
      ],
      "id": "ZDbX1VtNc1Hp",
      "execution_count": null,
      "outputs": []
    },
    {
      "cell_type": "markdown",
      "metadata": {
        "id": "DgvA8mUSD11d"
      },
      "source": [
        "# Create Plot"
      ],
      "id": "DgvA8mUSD11d"
    },
    {
      "cell_type": "markdown",
      "metadata": {
        "id": "zcOXlnDUB0gJ"
      },
      "source": [
        "### Get todays date"
      ],
      "id": "zcOXlnDUB0gJ"
    },
    {
      "cell_type": "code",
      "metadata": {
        "id": "gTJnU4eJBzFG"
      },
      "source": [
        "todays_date_moyr, todays_date_modyyr, today_decimal, todays_year = get_todays_date()"
      ],
      "id": "gTJnU4eJBzFG",
      "execution_count": null,
      "outputs": []
    },
    {
      "cell_type": "markdown",
      "metadata": {
        "id": "T8sFN9bEd0kF"
      },
      "source": [
        "### Set plot limits"
      ],
      "id": "T8sFN9bEd0kF"
    },
    {
      "cell_type": "code",
      "metadata": {
        "id": "1iUmnDPod2td"
      },
      "source": [
        "xmin = 1957\n",
        "xmax = todays_year + 2\n",
        "\n",
        "ymin = 310\n",
        "ymax = 425"
      ],
      "id": "1iUmnDPod2td",
      "execution_count": null,
      "outputs": []
    },
    {
      "cell_type": "markdown",
      "metadata": {
        "id": "vdXfVJUFeDXS"
      },
      "source": [
        "### Set plot labels and titles"
      ],
      "id": "vdXfVJUFeDXS"
    },
    {
      "cell_type": "code",
      "metadata": {
        "id": "7y6Nk9sPeEj4"
      },
      "source": [
        "xlabel = 'Year'\n",
        "ylabel = '$\\mathregular{CO_2}$ Concentration (ppm)'\n",
        "\n",
        "title1 = 'Mauna Loa Observatory, Hawaii'\n",
        "title2 = 'Monthly Average Carbon Dioxide Concentration'\n",
        "title3 = f'Data from Scripps CO$_2$ Program     Last updated {todays_date_moyr}'"
      ],
      "id": "7y6Nk9sPeEj4",
      "execution_count": null,
      "outputs": []
    },
    {
      "cell_type": "markdown",
      "metadata": {
        "id": "QZc-OOiQe8gs"
      },
      "source": [
        "## Plot data and run plotting functions to modify plot"
      ],
      "id": "QZc-OOiQe8gs"
    },
    {
      "cell_type": "code",
      "metadata": {
        "id": "4d55c1ac",
        "colab": {
          "base_uri": "https://localhost:8080/",
          "height": 613
        },
        "outputId": "6aae5435-b829-4927-abdb-5c10b29b8cdc"
      },
      "source": [
        "# ---------\n",
        "# Plot data\n",
        "# ---------\n",
        "\n",
        "fig = plt.figure()\n",
        "ax = fig.add_subplot()\n",
        "\n",
        "ax.plot(date_co2, co2, 'o', color='black',\n",
        "         markersize=3.5, linewidth=1,\n",
        "         markerfacecolor='black', markeredgecolor='black', markeredgewidth=0)\n",
        "\n",
        "ax.plot(date_co2_spline, co2_spline, '-', color='black', linewidth=0.5)\n",
        "\n",
        "# -------------------\n",
        "# Set plot properties\n",
        "# -------------------\n",
        "set_axis_tick_props(fig, ax, xmin, xmax, ymin, ymax)\n",
        "\n",
        "# ---------------\n",
        "# Add plot titles\n",
        "# ---------------\n",
        "add_3_plot_titles(fig, ax, title1, title2, title3)\n",
        "\n",
        "# ---------------\n",
        "# Add axis labels\n",
        "# ---------------\n",
        "ax.set_xlabel(xlabel, fontsize=21, fontweight=400, labelpad=8)\n",
        "ax.set_ylabel(ylabel, fontsize=21, fontweight=400, labelpad=8)\n",
        "\n",
        "# --------------------\n",
        "# Add SIO logo to plot\n",
        "# --------------------\n",
        "add_sio_logo(fig)\n",
        "\n",
        "# ---------------------\n",
        "# Save plot for website\n",
        "# ---------------------\n",
        "fig = plt.gcf()\n",
        "\n",
        "save_plot_pdf_png(fig, pdf_file, png_file)\n",
        "\n",
        "plt.show()"
      ],
      "id": "4d55c1ac",
      "execution_count": null,
      "outputs": [
        {
          "output_type": "display_data",
          "data": {
            "image/png": "[encoded data removed]",
            "text/plain": [
              "<Figure size 864x667.636 with 2 Axes>"
            ]
          },
          "metadata": {
            "needs_background": "light"
          }
        }
      ]
    },
    {
      "cell_type": "markdown",
      "metadata": {
        "id": "aJVERZtJE-AC"
      },
      "source": [
        "## Download Plots (pdf & png)"
      ],
      "id": "aJVERZtJE-AC"
    },
    {
      "cell_type": "code",
      "metadata": {
        "id": "iT_IG8LdDzt_",
        "colab": {
          "base_uri": "https://localhost:8080/",
          "height": 49,
          "referenced_widgets": [
            "82d0bf2ad051496d8d6c81d7721c34b6",
            "6c1c49e464174253a758218302e7e1cf",
            "ed5c4af910e542ca872d7f90c958866f"
          ]
        },
        "outputId": "1c99d5ad-4e21-454a-e728-81e5b8047b71"
      },
      "source": [
        "def download_files(ev):\n",
        "    #display(Javascript('IPython.notebook.execute_cells_below()'))\n",
        "    files.download(pdf_file)\n",
        "\n",
        "button = widgets.Button(description='Download Files', button_style='primary')\n",
        "button.on_click(download_files)\n",
        "display(button)"
      ],
      "id": "iT_IG8LdDzt_",
      "execution_count": null,
      "outputs": [
        {
          "output_type": "display_data",
          "data": {
            "application/vnd.jupyter.widget-view+json": {
              "model_id": "82d0bf2ad051496d8d6c81d7721c34b6",
              "version_minor": 0,
              "version_major": 2
            },
            "text/plain": [
              "Button(button_style='primary', description='Download Files', style=ButtonStyle())"
            ]
          },
          "metadata": {}
        }
      ]
    },
    {
      "cell_type": "markdown",
      "metadata": {
        "id": "DfLwqDY6nCzh"
      },
      "source": [
        "# Create animation of the plot\n"
      ],
      "id": "DfLwqDY6nCzh"
    },
    {
      "cell_type": "code",
      "metadata": {
        "id": "QiFfuH9CnFIo"
      },
      "source": [
        "# First set up the figure, the axis, and the plot element we want to animate\n",
        "fig,ax = plt.subplots(1, 1, figsize = (10, 6))\n",
        "\n",
        "ax.set_xlim(xmin, xmax)\n",
        "ax.set_ylim(ymin, ymax)\n",
        "\n",
        "#ax = plt.axes(xlim=(xmin,xmax), ylim=(ymin, ymax))\n",
        "\n",
        "line, = ax.plot([], [], lw=2)\n",
        "\n",
        "# initialization function: plot the background of each frame\n",
        "def init():\n",
        "    line.set_data([], [])\n",
        "    return line,\n",
        "\n",
        "# animation function.  This is called sequentially\n",
        "def animate(i):\n",
        "    line.set_data(date_co2_spline[:i], co2_spline[:i])\n",
        "    return line,\n",
        "\n",
        "# call the animator.  blit=True means only re-draw the parts that have changed.\n",
        "anim = animation.FuncAnimation(fig, animate, init_func=init,\n",
        "                               frames = len(date_co2_spline) + 1, interval=5, blit=True)\n",
        "\n",
        "# Close plot so it isn't displayed\n",
        "plt.close()"
      ],
      "id": "QiFfuH9CnFIo",
      "execution_count": null,
      "outputs": []
    },
    {
      "cell_type": "markdown",
      "metadata": {
        "id": "pgUbDj64X_iE"
      },
      "source": [
        "## Save the animation (takes awhile to create)\n"
      ],
      "id": "pgUbDj64X_iE"
    },
    {
      "cell_type": "code",
      "metadata": {
        "id": "_fJY294dQAVm"
      },
      "source": [
        "# save the animation as an mp4.  This requires ffmpeg or mencoder to be\n",
        "# installed.  The extra_args ensure that the x264 codec is used, so that\n",
        "# the video can be embedded in html5.  You may need to adjust this for\n",
        "# your system: for more information, see\n",
        "# http://matplotlib.sourceforge.net/api/animation_api.html\n",
        "#anim.save('basic_animation.mp4', fps=30, extra_args=['-vcodec', 'libx264'])\n",
        "\n",
        "\n",
        "anim.save('mlo_anim.mp4')"
      ],
      "id": "_fJY294dQAVm",
      "execution_count": null,
      "outputs": []
    },
    {
      "cell_type": "markdown",
      "metadata": {
        "id": "QLTvIVgVYHhy"
      },
      "source": [
        "## Load animation and press play"
      ],
      "id": "QLTvIVgVYHhy"
    },
    {
      "cell_type": "code",
      "metadata": {
        "id": "3U1z5ONlF89R",
        "colab": {
          "base_uri": "https://localhost:8080/",
          "height": 501
        },
        "outputId": "46270851-451e-46af-d5aa-d9bd0420cdee"
      },
      "source": [
        "mlo_animation = mp4 = open('mlo_anim.mp4','rb').read()\n",
        "\n",
        "data_url = \"data:video/mp4;base64,\" + b64encode(mlo_animation).decode()\n",
        "HTML(\"\"\"\n",
        "<video width=800 controls>\n",
        "      <source src=\"%s\" type=\"video/mp4\">\n",
        "</video>\n",
        "\"\"\" % data_url)"
      ],
      "id": "3U1z5ONlF89R",
      "execution_count": null,
      "outputs": [
        {
          "output_type": "execute_result",
          "data": {
            "text/html": [
              "\n",
              "<video width=800 controls>\n",
              "      <source src=\"data:video/mp4;base64,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\" type=\"video/mp4\">\n",
              "</video>\n"
            ],
            "text/plain": [
              "<IPython.core.display.HTML object>"
            ]
          },
          "metadata": {},
          "execution_count": 25
        }
      ]
    },
    {
      "cell_type": "code",
      "metadata": {
        "id": "3Fmj6ol0Y5Lk"
      },
      "source": [
        ""
      ],
      "id": "3Fmj6ol0Y5Lk",
      "execution_count": null,
      "outputs": []
    }
  ]
}