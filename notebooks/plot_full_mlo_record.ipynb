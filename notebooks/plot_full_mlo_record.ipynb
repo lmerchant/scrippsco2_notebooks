{
  "nbformat": 4,
  "nbformat_minor": 5,
  "metadata": {
    "kernelspec": {
      "display_name": "Python 3 (ipykernel)",
      "language": "python",
      "name": "python3"
    },
    "language_info": {
      "codemirror_mode": {
        "name": "ipython",
        "version": 3
      },
      "file_extension": ".py",
      "mimetype": "text/x-python",
      "name": "python",
      "nbconvert_exporter": "python",
      "pygments_lexer": "ipython3",
      "version": "3.8.5"
    },
    "colab": {
      "name": "plot_full_mlo_record.ipynb",
      "provenance": [],
      "include_colab_link": true
    }
  },
  "cells": [
    {
      "cell_type": "markdown",
      "metadata": {
        "id": "view-in-github",
        "colab_type": "text"
      },
      "source": [
        "<a href=\"https://colab.research.google.com/github/lmerchant/scrippsco2_notebooks/blob/main/notebooks/plot_full_mlo_record.ipynb\" target=\"_parent\"><img src=\"https://colab.research.google.com/assets/colab-badge.svg\" alt=\"Open In Colab\"/></a>"
      ]
    },
    {
      "cell_type": "markdown",
      "metadata": {
        "id": "d94b83b3"
      },
      "source": [
        "# Plot full record of Mauna Loa in-situ data"
      ],
      "id": "d94b83b3"
    },
    {
      "cell_type": "code",
      "metadata": {
        "id": "0cd61aa7"
      },
      "source": [
        "%matplotlib inline\n",
        "import ssl\n",
        "import pandas as pd\n",
        "import numpy as np\n",
        "import pathlib\n",
        "from datetime import datetime, date\n",
        "from pathlib import Path\n",
        "from google.colab import files\n",
        "import matplotlib.image as mpimg\n",
        "import matplotlib.pyplot as plt\n",
        "from matplotlib.pyplot import figure\n",
        "from matplotlib import ticker\n",
        "from matplotlib import rc,rcParams\n",
        "from IPython.display import Javascript, display\n",
        "from ipywidgets import widgets\n",
        "import certifi"
      ],
      "id": "0cd61aa7",
      "execution_count": null,
      "outputs": []
    },
    {
      "cell_type": "markdown",
      "metadata": {
        "id": "0ee378f8"
      },
      "source": [
        "### Set directories and file names for data and plot"
      ],
      "id": "0ee378f8"
    },
    {
      "cell_type": "code",
      "metadata": {
        "id": "804adc16",
        "colab": {
          "base_uri": "https://localhost:8080/"
        },
        "outputId": "219cc01f-8551-4fe6-8a9e-7ee7e7e86ef5"
      },
      "source": [
        "insitu_data_dir = 'https://scrippsco2.ucsd.edu/assets/data/atmospheric/stations/in_situ_co2/monthly'\n",
        "\n",
        "monthly_mlo_file = 'monthly_in_situ_co2_mlo.csv'\n",
        "data_url = f\"{insitu_data_dir}/{monthly_mlo_file}\" \n",
        "\n",
        "plot_dir = pathlib.Path('./plots')\n",
        "plot_dir.mkdir(exist_ok=True)\n",
        "\n",
        "pdf_file = plot_dir / 'mlo_record.pdf'\n",
        "png_file = plot_dir / 'mlo_record.png'\n",
        "\n",
        "print(data_url)"
      ],
      "id": "804adc16",
      "execution_count": null,
      "outputs": [
        {
          "output_type": "stream",
          "name": "stdout",
          "text": [
            "https://scrippsco2.ucsd.edu/assets/data/atmospheric/stations/in_situ_co2/monthly/monthly_in_situ_co2_mlo.csv\n"
          ]
        }
      ]
    },
    {
      "cell_type": "markdown",
      "metadata": {
        "id": "e845a189"
      },
      "source": [
        "# Load in Data and process"
      ],
      "id": "e845a189"
    },
    {
      "cell_type": "markdown",
      "metadata": {
        "id": "PDm-G3miBFbk"
      },
      "source": [
        "### Import data using Pandas"
      ],
      "id": "PDm-G3miBFbk"
    },
    {
      "cell_type": "code",
      "metadata": {
        "colab": {
          "base_uri": "https://localhost:8080/",
          "height": 204
        },
        "id": "2764b8ff",
        "outputId": "46ec3c24-4c75-4229-ec2f-defd0aecc60b"
      },
      "source": [
        "# https://scrippsco2.ucsd.edu gives invalid SSL certificate\n",
        "# This is fix to get around that\n",
        "ssl._create_default_https_context = ssl._create_unverified_context\n",
        "\n",
        "# Then can get data with pandas through url\n",
        "df = pd.read_csv(data_url,sep=',',comment='\"')\n",
        "df.head()"
      ],
      "id": "2764b8ff",
      "execution_count": null,
      "outputs": [
        {
          "output_type": "execute_result",
          "data": {
            "text/html": [
              "<div>\n",
              "<style scoped>\n",
              "    .dataframe tbody tr th:only-of-type {\n",
              "        vertical-align: middle;\n",
              "    }\n",
              "\n",
              "    .dataframe tbody tr th {\n",
              "        vertical-align: top;\n",
              "    }\n",
              "\n",
              "    .dataframe thead th {\n",
              "        text-align: right;\n",
              "    }\n",
              "</style>\n",
              "<table border=\"1\" class=\"dataframe\">\n",
              "  <thead>\n",
              "    <tr style=\"text-align: right;\">\n",
              "      <th></th>\n",
              "      <th>Yr</th>\n",
              "      <th>Mn</th>\n",
              "      <th>Date</th>\n",
              "      <th>Date</th>\n",
              "      <th>CO2</th>\n",
              "      <th>seasonally</th>\n",
              "      <th>fit</th>\n",
              "      <th>seasonally</th>\n",
              "      <th>CO2</th>\n",
              "      <th>seasonally</th>\n",
              "    </tr>\n",
              "  </thead>\n",
              "  <tbody>\n",
              "    <tr>\n",
              "      <th>0</th>\n",
              "      <td></td>\n",
              "      <td></td>\n",
              "      <td></td>\n",
              "      <td></td>\n",
              "      <td></td>\n",
              "      <td>adjusted</td>\n",
              "      <td></td>\n",
              "      <td>adjusted fit</td>\n",
              "      <td>filled</td>\n",
              "      <td>adjusted filled</td>\n",
              "    </tr>\n",
              "    <tr>\n",
              "      <th>1</th>\n",
              "      <td></td>\n",
              "      <td></td>\n",
              "      <td>Excel</td>\n",
              "      <td></td>\n",
              "      <td>[ppm]</td>\n",
              "      <td>[ppm]</td>\n",
              "      <td>[ppm]</td>\n",
              "      <td>[ppm]</td>\n",
              "      <td>[ppm]</td>\n",
              "      <td>[ppm]</td>\n",
              "    </tr>\n",
              "    <tr>\n",
              "      <th>2</th>\n",
              "      <td>1958</td>\n",
              "      <td>01</td>\n",
              "      <td>21200</td>\n",
              "      <td>1958.0411</td>\n",
              "      <td>-99.99</td>\n",
              "      <td>-99.99</td>\n",
              "      <td>-99.99</td>\n",
              "      <td>-99.99</td>\n",
              "      <td>-99.99</td>\n",
              "      <td>-99.99</td>\n",
              "    </tr>\n",
              "    <tr>\n",
              "      <th>3</th>\n",
              "      <td>1958</td>\n",
              "      <td>02</td>\n",
              "      <td>21231</td>\n",
              "      <td>1958.1260</td>\n",
              "      <td>-99.99</td>\n",
              "      <td>-99.99</td>\n",
              "      <td>-99.99</td>\n",
              "      <td>-99.99</td>\n",
              "      <td>-99.99</td>\n",
              "      <td>-99.99</td>\n",
              "    </tr>\n",
              "    <tr>\n",
              "      <th>4</th>\n",
              "      <td>1958</td>\n",
              "      <td>03</td>\n",
              "      <td>21259</td>\n",
              "      <td>1958.2027</td>\n",
              "      <td>315.71</td>\n",
              "      <td>314.44</td>\n",
              "      <td>316.20</td>\n",
              "      <td>314.91</td>\n",
              "      <td>315.71</td>\n",
              "      <td>314.44</td>\n",
              "    </tr>\n",
              "  </tbody>\n",
              "</table>\n",
              "</div>"
            ],
            "text/plain": [
              "     Yr   Mn      Date  ...    seasonally           CO2       seasonally\n",
              "0                       ...  adjusted fit        filled  adjusted filled\n",
              "1                Excel  ...         [ppm]         [ppm]            [ppm]\n",
              "2  1958   01     21200  ...        -99.99        -99.99           -99.99\n",
              "3  1958   02     21231  ...        -99.99        -99.99           -99.99\n",
              "4  1958   03     21259  ...        314.91        315.71           314.44\n",
              "\n",
              "[5 rows x 10 columns]"
            ]
          },
          "metadata": {},
          "execution_count": 76
        }
      ]
    },
    {
      "cell_type": "markdown",
      "metadata": {
        "id": "4d4b7e96"
      },
      "source": [
        "### Remove next two rows containing header information and change to numeric vals"
      ],
      "id": "4d4b7e96"
    },
    {
      "cell_type": "code",
      "metadata": {
        "id": "308138b6"
      },
      "source": [
        "df = df.iloc[2:]\n",
        "df = df.apply(pd.to_numeric)"
      ],
      "id": "308138b6",
      "execution_count": null,
      "outputs": []
    },
    {
      "cell_type": "markdown",
      "metadata": {
        "id": "b4b8a9af"
      },
      "source": [
        "### Rename column names to replace duplicate names"
      ],
      "id": "b4b8a9af"
    },
    {
      "cell_type": "code",
      "metadata": {
        "id": "17599b5f"
      },
      "source": [
        "col_mapping ={df.columns[0]:'year', df.columns[1]: 'month', df.columns[2]: 'excel_date', \n",
        "              df.columns[3]: 'dec_date', df.columns[4]: 'co2', df.columns[5]: 'co2_seasonal',\n",
        "              df.columns[6]: 'co2_fit', df.columns[7]: 'co2_seasonal_fit', \n",
        "              df.columns[8]:'co2_filled', df.columns[9]: 'co2_seasonal_filled'}\n",
        "df = df.rename(columns=col_mapping)\n",
        "df.head()"
      ],
      "id": "17599b5f",
      "execution_count": null,
      "outputs": []
    },
    {
      "cell_type": "markdown",
      "metadata": {
        "id": "9792df54"
      },
      "source": [
        "### Break into 2 dataframes. One for CO2 and one for the CO2 spline\n",
        "The decimal date is the midpoint of each month"
      ],
      "id": "9792df54"
    },
    {
      "cell_type": "code",
      "metadata": {
        "id": "6b167c31"
      },
      "source": [
        "df_co2 = df[['dec_date', 'co2']].copy()\n",
        "df_co2_spline = df[['dec_date', 'co2_fit']].copy()"
      ],
      "id": "6b167c31",
      "execution_count": null,
      "outputs": []
    },
    {
      "cell_type": "markdown",
      "metadata": {
        "id": "37e7857d"
      },
      "source": [
        "### Remove CO2 rows and CO2 spline rows with fill values -99.99"
      ],
      "id": "37e7857d"
    },
    {
      "cell_type": "code",
      "metadata": {
        "scrolled": true,
        "id": "5b917a69"
      },
      "source": [
        "df_co2 = df_co2[df_co2['co2'] != -99.99]\n",
        "df_co2_spline = df_co2_spline[df_co2_spline['co2_fit'] != -99.99]"
      ],
      "id": "5b917a69",
      "execution_count": null,
      "outputs": []
    },
    {
      "cell_type": "markdown",
      "metadata": {
        "id": "85ab8af4"
      },
      "source": [
        "### Convert to numpy arrays for plotting"
      ],
      "id": "85ab8af4"
    },
    {
      "cell_type": "code",
      "metadata": {
        "id": "18a3a46c"
      },
      "source": [
        "date_co2 = df_co2['dec_date'].to_numpy()\n",
        "co2 = df_co2['co2'].to_numpy()\n",
        "date_co2_spline = df_co2_spline['dec_date'].to_numpy()\n",
        "co2_spline = df_co2_spline['co2_fit'].to_numpy()"
      ],
      "id": "18a3a46c",
      "execution_count": null,
      "outputs": []
    },
    {
      "cell_type": "markdown",
      "metadata": {
        "id": "0645354e"
      },
      "source": [
        "# Plotting functions"
      ],
      "id": "0645354e"
    },
    {
      "cell_type": "markdown",
      "metadata": {
        "id": "71rMJz01OUDo"
      },
      "source": [
        "### Get todays date"
      ],
      "id": "71rMJz01OUDo"
    },
    {
      "cell_type": "code",
      "metadata": {
        "id": "zG99l_LTW4-j"
      },
      "source": [
        "def get_todays_date():\n",
        "\n",
        "    # Get variations of todays date\n",
        "\n",
        "    def dt_to_dec(dt):\n",
        "        \"\"\"Convert a datetime to decimal year.\"\"\"\n",
        "        year_start = datetime(dt.year, 1, 1)\n",
        "        year_end = year_start.replace(year=dt.year+1)\n",
        "        return dt.year + (dt - year_start) / (year_end - year_start)\n",
        "\n",
        "    today = date.today()\n",
        "    today_with_time = datetime(\n",
        "        year=today.year, month=today.month, day=today.day)\n",
        "\n",
        "    today_decimal = dt_to_dec(today_with_time)\n",
        "\n",
        "    todays_day = today.day\n",
        "    todays_month = today.strftime(\"%B\")\n",
        "    todays_year = today.year\n",
        "    todays_date_moyr = today.strftime(\"%B %Y\")\n",
        "    todays_date_modyyr = f\"{todays_month} {todays_day}, {todays_year}\"\n",
        "\n",
        "    return todays_date_moyr, todays_date_modyyr, today_decimal, todays_year"
      ],
      "id": "zG99l_LTW4-j",
      "execution_count": null,
      "outputs": []
    },
    {
      "cell_type": "markdown",
      "metadata": {
        "id": "M1b68HyOXGZ9"
      },
      "source": [
        "### Get archive date from file"
      ],
      "id": "M1b68HyOXGZ9"
    },
    {
      "cell_type": "code",
      "metadata": {
        "id": "YcnTewORXNEi"
      },
      "source": [
        "def get_file_archive_date(data_file):\n",
        "\n",
        "    # Sample archive line from file\n",
        "    # \" Baseline data in this file through 01-Jul-2021 from archive dated 02-Jul-2021 09:04:47    \"\n",
        "\n",
        "    pattern_archive = re.compile(\"archive\")\n",
        "    pattern_archive_date = re.compile(r'archive dated (\\d\\d-\\w{3}-\\d\\d\\d\\d)')\n",
        "\n",
        "    for line in open(data_file):\n",
        "        for match in re.finditer(pattern_archive, line):\n",
        "            m = pattern_archive_date.search(line)\n",
        "            archive_date = m.group(1)\n",
        "            archive_datetime = datetime.strptime(archive_date, '%d-%b-%Y')\n",
        "            # Reformat to Month name Month day, Month year\n",
        "            month = archive_datetime.strftime(\"%B\")\n",
        "            archive_date = f\"{month} {archive_datetime.day}, {archive_datetime.year}\"\n",
        "            break\n",
        "\n",
        "    return archive_date"
      ],
      "id": "YcnTewORXNEi",
      "execution_count": null,
      "outputs": []
    },
    {
      "cell_type": "markdown",
      "metadata": {
        "id": "EkwHrCpvL9nP"
      },
      "source": [
        "### Set plot limits"
      ],
      "id": "EkwHrCpvL9nP"
    },
    {
      "cell_type": "code",
      "metadata": {
        "id": "bTpSmcUNOHqQ"
      },
      "source": [
        "todays_date_moyr, todays_date_modyyr, today_decimal, todays_year = get_todays_date()\n",
        "\n",
        "xmin = 1957\n",
        "xmax = todays_year + 2\n",
        "\n",
        "ymin = 310\n",
        "ymax = 425"
      ],
      "id": "bTpSmcUNOHqQ",
      "execution_count": null,
      "outputs": []
    },
    {
      "cell_type": "markdown",
      "metadata": {
        "id": "DYbo3GpPXgyT"
      },
      "source": [
        "### Set plot labels and titles"
      ],
      "id": "DYbo3GpPXgyT"
    },
    {
      "cell_type": "code",
      "metadata": {
        "id": "-S9TIMg8Xn7y"
      },
      "source": [
        "xlabel = 'Year'\n",
        "ylabel = '$\\mathregular{CO_2}$ Concentration (ppm)'\n",
        "\n",
        "# ax.set_xlabel(xlabel, fontsize=21, fontweight=400, labelpad=8)\n",
        "# ax.set_ylabel(ylabel, fontsize=21, fontweight=400, labelpad=8)"
      ],
      "id": "-S9TIMg8Xn7y",
      "execution_count": null,
      "outputs": []
    },
    {
      "cell_type": "code",
      "metadata": {
        "id": "6IInTnJ7ea73"
      },
      "source": [
        "xlabel = 'Year'\n",
        "ylabel = '$\\mathregular{CO_2}$ Concentration (ppm)'\n",
        "\n",
        "title1 = 'Mauna Loa Observatory, Hawaii'\n",
        "title2 = 'Monthly Average Carbon Dioxide Concentration'\n",
        "title3 = f'Data from Scripps CO$_2$ Program     Last updated {todays_date_moyr}'"
      ],
      "id": "6IInTnJ7ea73",
      "execution_count": null,
      "outputs": []
    },
    {
      "cell_type": "markdown",
      "metadata": {
        "id": "NetYxOq9bRyp"
      },
      "source": [
        "### Set plot titles"
      ],
      "id": "NetYxOq9bRyp"
    },
    {
      "cell_type": "code",
      "metadata": {
        "id": "l9OqzT9MbRFw"
      },
      "source": [
        "def add_3_plot_titles(fig, ax, title1, title2, title3):\n",
        "\n",
        "    # Allow room at top for the 3 titles\n",
        "    fig.subplots_adjust(top=0.85)\n",
        "\n",
        "    # Set font properties\n",
        "    rcParams.update({\n",
        "      'font.family':'sans-serif',\n",
        "      'font.weight':'bold',\n",
        "      'font.sans-serif':['Liberation Sans', 'DejaVu Sans']\n",
        "    })\n",
        "\n",
        "    # position titles above plot\n",
        "    ax.annotate(title1, xy=(0, 1.15), xycoords='axes fraction', fontsize=21,\n",
        "                horizontalalignment='left', verticalalignment='top')\n",
        "    ax.annotate(title2, xy=(0, 1.095), xycoords='axes fraction', fontsize=21,\n",
        "                horizontalalignment='left', verticalalignment='top')\n",
        "    ax.annotate(title3, xy=(0, 1.04), xycoords='axes fraction', fontsize=12, fontweight='normal',\n",
        "                horizontalalignment='left', verticalalignment='top')"
      ],
      "id": "l9OqzT9MbRFw",
      "execution_count": null,
      "outputs": []
    },
    {
      "cell_type": "markdown",
      "metadata": {
        "id": "3Fg42HUuYezW"
      },
      "source": [
        "### Set plot ticks and axis properties"
      ],
      "id": "3Fg42HUuYezW"
    },
    {
      "cell_type": "code",
      "metadata": {
        "id": "mJUoztEzYnZ1"
      },
      "source": [
        "def set_axis_tick_props(fig, ax, xmin, xmax, ymin, ymax):\n",
        "\n",
        "    # activate latex text rendering\n",
        "    rc('axes', linewidth=1)\n",
        "\n",
        "    ax.set_xlim(xmin, xmax)\n",
        "    ax.set_ylim(ymin, ymax)\n",
        "    \n",
        "    # Set tick labels font\n",
        "    rcParams.update({\n",
        "      'font.family':'sans-serif',\n",
        "      'font.weight':'bold',\n",
        "      'font.sans-serif':['Liberation Sans', 'DejaVu Sans']\n",
        "    })\n",
        "        \n",
        "    ax.tick_params(which='both', bottom=True, top=True, left=True, right=True)\n",
        "\n",
        "    ax.tick_params(axis='x', labelsize=14)\n",
        "    ax.tick_params(axis='y', labelsize=16)\n",
        "\n",
        "    ax.tick_params(which='major', direction='in', length=9, width=1)\n",
        "\n",
        "    xaxis_tick_spacing = 5\n",
        "    ax.xaxis.set_major_locator(ticker.MultipleLocator(xaxis_tick_spacing))\n",
        "\n",
        "    yaxis_tick_spacing = 5\n",
        "    ax.yaxis.set_major_locator(ticker.MultipleLocator(yaxis_tick_spacing))\n",
        "\n",
        "    # Display every other y major tick label\n",
        "    for label in ax.yaxis.get_ticklabels()[::2]:\n",
        "        label.set_visible(False)\n",
        "\n",
        "    ax.tick_params(which='minor', direction='in', length=4)\n",
        "    ax.xaxis.set_minor_locator(ticker.AutoMinorLocator(5))\n",
        "    ax.yaxis.set_minor_locator(ticker.AutoMinorLocator(5))"
      ],
      "id": "mJUoztEzYnZ1",
      "execution_count": null,
      "outputs": []
    },
    {
      "cell_type": "markdown",
      "metadata": {
        "id": "_FJsXejoZfFK"
      },
      "source": [
        "### Get SIO logo"
      ],
      "id": "_FJsXejoZfFK"
    },
    {
      "cell_type": "code",
      "metadata": {
        "id": "AJ1dGViMZf8W"
      },
      "source": [
        "def add_sio_logo(fig, logo_file):\n",
        "\n",
        "    # Get logo from Github repo\n",
        "    \n",
        "    # Suppress output from curl\n",
        "    with io.capture_output() as captured:\n",
        "        !curl -O https://raw.githubusercontent.com/lmerchant/scrippsco2_notebooks/main/images/sio_logo.png\n",
        "\n",
        "    img_file = '/content/scrippsco2_notebooks/sio_logo.png'\n",
        "\n",
        "    logo = mpimg.imread(img_file)\n",
        "\n",
        "    newax = fig.add_axes([0.73, 0.18, 0.2, 0.2], anchor='SE', zorder=1)\n",
        "\n",
        "    plt.imshow(logo)\n",
        "\n",
        "    plt.axis('off')\n",
        "\n"
      ],
      "id": "AJ1dGViMZf8W",
      "execution_count": null,
      "outputs": []
    },
    {
      "cell_type": "markdown",
      "metadata": {
        "id": "d2wq2h3zcvzj"
      },
      "source": [
        "### Save plot"
      ],
      "id": "d2wq2h3zcvzj"
    },
    {
      "cell_type": "code",
      "metadata": {
        "id": "ZDbX1VtNc1Hp"
      },
      "source": [
        "def save_plot_pdf_png(fig, pdf_file, png_file):\n",
        "\n",
        "    # Save plot as  pdf and png for scrippsco2 website\n",
        "\n",
        "    # For pdf\n",
        "    width_in = 11\n",
        "    height_in = 8.5\n",
        "    fig.set_size_inches(width_in, height_in)\n",
        "\n",
        "    plt.subplots_adjust(left=0.109, right=0.95, top=0.85, bottom=0.15)\n",
        "\n",
        "    fig.savefig(pdf_file, facecolor='w', edgecolor='w',\n",
        "                orientation='landscape', format=None,\n",
        "                transparent=False, pad_inches=0)\n",
        "\n",
        "    # For png\n",
        "    width_px = 1200\n",
        "    height_px = (height_in/width_in) * width_px\n",
        "\n",
        "    png_dpi = 100\n",
        "    fig.set_size_inches(width_px/png_dpi, height_px/png_dpi)\n",
        "\n",
        "    fig.savefig(png_file, facecolor='w', edgecolor='w',\n",
        "                orientation='landscape', dpi=png_dpi, pad_inches=0)"
      ],
      "id": "ZDbX1VtNc1Hp",
      "execution_count": null,
      "outputs": []
    },
    {
      "cell_type": "markdown",
      "metadata": {
        "id": "DgvA8mUSD11d"
      },
      "source": [
        "# Create Plot"
      ],
      "id": "DgvA8mUSD11d"
    },
    {
      "cell_type": "markdown",
      "metadata": {
        "id": "zcOXlnDUB0gJ"
      },
      "source": [
        "### Get todays date"
      ],
      "id": "zcOXlnDUB0gJ"
    },
    {
      "cell_type": "code",
      "metadata": {
        "id": "gTJnU4eJBzFG"
      },
      "source": [
        "todays_date_moyr, todays_date_modyyr, today_decimal, todays_year = get_dates.get_todays_date()"
      ],
      "id": "gTJnU4eJBzFG",
      "execution_count": null,
      "outputs": []
    },
    {
      "cell_type": "markdown",
      "metadata": {
        "id": "T8sFN9bEd0kF"
      },
      "source": [
        "### Set plot limits"
      ],
      "id": "T8sFN9bEd0kF"
    },
    {
      "cell_type": "code",
      "metadata": {
        "id": "1iUmnDPod2td"
      },
      "source": [
        "xmin = 1957\n",
        "xmax = todays_year + 2\n",
        "\n",
        "ymin = 310\n",
        "ymax = 425"
      ],
      "id": "1iUmnDPod2td",
      "execution_count": null,
      "outputs": []
    },
    {
      "cell_type": "markdown",
      "metadata": {
        "id": "vdXfVJUFeDXS"
      },
      "source": [
        "### Set plot labels and titles"
      ],
      "id": "vdXfVJUFeDXS"
    },
    {
      "cell_type": "code",
      "metadata": {
        "id": "7y6Nk9sPeEj4"
      },
      "source": [
        "xlabel = 'Year'\n",
        "ylabel = '$\\mathregular{CO_2}$ Concentration (ppm)'\n",
        "\n",
        "title1 = 'Mauna Loa Observatory, Hawaii'\n",
        "title2 = 'Monthly Average Carbon Dioxide Concentration'\n",
        "title3 = f'Data from Scripps CO$_2$ Program     Last updated {todays_date_moyr}'"
      ],
      "id": "7y6Nk9sPeEj4",
      "execution_count": null,
      "outputs": []
    },
    {
      "cell_type": "markdown",
      "metadata": {
        "id": "QZc-OOiQe8gs"
      },
      "source": [
        "## Plot data and run plotting functions to modify plot"
      ],
      "id": "QZc-OOiQe8gs"
    },
    {
      "cell_type": "code",
      "metadata": {
        "id": "4d55c1ac"
      },
      "source": [
        "# ---------\n",
        "# Plot data\n",
        "# ---------\n",
        "\n",
        "fig = plt.figure()\n",
        "ax = fig.add_subplot()\n",
        "\n",
        "ax.plot(date_co2, co2, 'o', color='black',\n",
        "         markersize=3.5, linewidth=1,\n",
        "         markerfacecolor='black', markeredgecolor='black', markeredgewidth=0)\n",
        "\n",
        "ax.plot(date_co2_spline, co2_spline, '-', color='black', linewidth=0.5)\n",
        "\n",
        "# -------------------\n",
        "# Set plot properties\n",
        "# -------------------\n",
        "set_axis_tick_props(fig, ax, xmin, xmax, ymin, ymax)\n",
        "\n",
        "# ---------------\n",
        "# Add plot titles\n",
        "# ---------------\n",
        "add_3_plot_titles(fig, ax, title1, title2, title3)\n",
        "\n",
        "# ---------------\n",
        "# Add axis labels\n",
        "# ---------------\n",
        "ax.set_xlabel(xlabel, fontsize=21, fontweight=400, labelpad=8)\n",
        "ax.set_ylabel(ylabel, fontsize=21, fontweight=400, labelpad=8)\n",
        "\n",
        "# --------------------\n",
        "# Add SIO logo to plot\n",
        "# --------------------\n",
        "add_sio_logo(fig, logo_file)\n",
        "\n",
        "# ---------------------\n",
        "# Save plot for website\n",
        "# ---------------------\n",
        "fig = plt.gcf()\n",
        "\n",
        "save_plot_pdf_png(fig, pdf_file, png_file)\n",
        "\n",
        "plt.show()"
      ],
      "id": "4d55c1ac",
      "execution_count": null,
      "outputs": []
    },
    {
      "cell_type": "markdown",
      "metadata": {
        "id": "aJVERZtJE-AC"
      },
      "source": [
        "## Download Plots (pdf & png)"
      ],
      "id": "aJVERZtJE-AC"
    },
    {
      "cell_type": "code",
      "metadata": {
        "id": "iT_IG8LdDzt_"
      },
      "source": [
        "def download_files(ev):\n",
        "    #display(Javascript('IPython.notebook.execute_cells_below()'))\n",
        "    files.download(pdf_file)\n",
        "\n",
        "button = widgets.Button(description='Download Files', button_style='primary')\n",
        "button.on_click(download_files)\n",
        "display(button)"
      ],
      "id": "iT_IG8LdDzt_",
      "execution_count": null,
      "outputs": []
    },
    {
      "cell_type": "code",
      "metadata": {
        "id": "DfLwqDY6nCzh"
      },
      "source": [
        ""
      ],
      "id": "DfLwqDY6nCzh",
      "execution_count": null,
      "outputs": []
    },
    {
      "cell_type": "code",
      "metadata": {
        "id": "QiFfuH9CnFIo"
      },
      "source": [
        "# animation line plot example\n",
        "\n",
        "fig, ax = plt.subplots(1, 1, figsize = (6, 6))\n",
        "\n",
        "def animate(i):\n",
        "    ax.cla() # clear the previous image\n",
        "    ax.plot(date_co2_spline[:i], co2_spline[:i]) # plot the line\n",
        "    ax.set_xlim([xmin xmax]) # fix the x axis\n",
        "    ax.set_ylim([ymin ymax]) # fix the y axis\n",
        "\n",
        "anim = animation.FuncAnimation(fig, animate, frames = len(date_co2_spline) + 1, interval = 1, blit = False)\n",
        "plt.show()"
      ],
      "id": "QiFfuH9CnFIo",
      "execution_count": null,
      "outputs": []
    },
    {
      "cell_type": "code",
      "metadata": {
        "id": "aSVU9n30n6_-"
      },
      "source": [
        ""
      ],
      "id": "aSVU9n30n6_-",
      "execution_count": null,
      "outputs": []
    }
  ]
}