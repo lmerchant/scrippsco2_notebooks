{
  "nbformat": 4,
  "nbformat_minor": 0,
  "metadata": {
    "colab": {
      "name": "notebook_snippets.ipynb",
      "provenance": [],
      "collapsed_sections": [],
      "authorship_tag": "ABX9TyNjG7aZQg+9ajBZImhuWtDJ",
      "include_colab_link": true
    },
    "kernelspec": {
      "name": "python3",
      "display_name": "Python 3"
    },
    "language_info": {
      "name": "python"
    }
  },
  "cells": [
    {
      "cell_type": "markdown",
      "metadata": {
        "id": "view-in-github",
        "colab_type": "text"
      },
      "source": [
        "<a href=\"https://colab.research.google.com/github/lmerchant/scrippsco2_notebooks/blob/main/utils/notebook_snippets.ipynb\" target=\"_parent\"><img src=\"https://colab.research.google.com/assets/colab-badge.svg\" alt=\"Open In Colab\"/></a>"
      ]
    },
    {
      "cell_type": "markdown",
      "metadata": {
        "id": "HEZGL80jI6V1"
      },
      "source": [
        "### Scrippsco2: Get todays date"
      ]
    },
    {
      "cell_type": "code",
      "metadata": {
        "id": "QucYaCbWO8iL"
      },
      "source": [
        "def get_todays_date():\n",
        "\n",
        "    # Get variations of todays date\n",
        "\n",
        "    def dt_to_dec(dt):\n",
        "        \"\"\"Convert a datetime to decimal year.\"\"\"\n",
        "        year_start = datetime(dt.year, 1, 1)\n",
        "        year_end = year_start.replace(year=dt.year+1)\n",
        "        return dt.year + (dt - year_start) / (year_end - year_start)\n",
        "\n",
        "    today = date.today()\n",
        "    today_with_time = datetime(\n",
        "        year=today.year, month=today.month, day=today.day)\n",
        "\n",
        "    today_decimal = dt_to_dec(today_with_time)\n",
        "\n",
        "    todays_day = today.day\n",
        "    todays_month = today.strftime(\"%B\")\n",
        "    todays_year = today.year\n",
        "    todays_date_moyr = today.strftime(\"%B %Y\")\n",
        "    todays_date_modyyr = f\"{todays_month} {todays_day}, {todays_year}\"\n",
        "\n",
        "    return todays_date_moyr, todays_date_modyyr, today_decimal, todays_year"
      ],
      "execution_count": null,
      "outputs": []
    },
    {
      "cell_type": "markdown",
      "metadata": {
        "id": "BHXxNKQdPjnH"
      },
      "source": [
        "### Scrippsco2: Get data file archive date"
      ]
    },
    {
      "cell_type": "code",
      "metadata": {
        "id": "bvFGaKaGPksi"
      },
      "source": [
        "def get_file_archive_date(data_file):\n",
        "\n",
        "    # Sample archive line from file\n",
        "    # \" Baseline data in this file through 01-Jul-2021 from archive dated 02-Jul-2021 09:04:47    \"\n",
        "\n",
        "    pattern_archive = re.compile(\"archive\")\n",
        "    pattern_archive_date = re.compile(r'archive dated (\\d\\d-\\w{3}-\\d\\d\\d\\d)')\n",
        "\n",
        "    for line in open(data_file):\n",
        "        for match in re.finditer(pattern_archive, line):\n",
        "            m = pattern_archive_date.search(line)\n",
        "            archive_date = m.group(1)\n",
        "            archive_datetime = datetime.strptime(archive_date, '%d-%b-%Y')\n",
        "            # Reformat to Month name Month day, Month year\n",
        "            month = archive_datetime.strftime(\"%B\")\n",
        "            archive_date = f\"{month} {archive_datetime.day}, {archive_datetime.year}\"\n",
        "            break\n",
        "\n",
        "    return archive_date"
      ],
      "execution_count": null,
      "outputs": []
    },
    {
      "cell_type": "markdown",
      "metadata": {
        "id": "myo5fPUFPx-_"
      },
      "source": [
        "### Scrippco2: Convert a datetime to a float date"
      ]
    },
    {
      "cell_type": "code",
      "metadata": {
        "id": "tUIgGEIqPyot"
      },
      "source": [
        "def datetime_to_float(adatetime):\n",
        "    \"\"\"\n",
        "    Convert adatetime into a float. The integer part of the\n",
        "    float should represent the year.\n",
        "    Order should be preserved. If adate < bdate, then datetime_to_float(adate) < datetime_to_float(bdate)\n",
        "    Time distances should be preserved:\n",
        "    If bdate - adate =  ddate-cdate then\n",
        "    datetime_to_float(bdate) - datetime_to_float(adate) = datetime_to_float(ddate) - datetime_to_float(cdate)\n",
        "\n",
        "    # Need: import datetime as DT\n",
        "\n",
        "    https://stackoverflow.com/questions/19305991/convert-fractional-years-to-a-real-date-in-python\n",
        "    \"\"\"\n",
        "\n",
        "    year = adatetime.year\n",
        "    begin_of_year = DT.datetime(year, 1, 1)\n",
        "    end_of_year = DT.datetime(year + 1, 1, 1)\n",
        "    return year + ((adatetime - begin_of_year).total_seconds() / ((end_of_year - begin_of_year).total_seconds()))"
      ],
      "execution_count": 11,
      "outputs": []
    },
    {
      "cell_type": "markdown",
      "metadata": {
        "id": "YqhD--B_TiyB"
      },
      "source": [
        "### Scrippsco2: Convert a float date to a datetime"
      ]
    },
    {
      "cell_type": "code",
      "metadata": {
        "id": "wCpRQoSrTjXl"
      },
      "source": [
        "def float_to_datetime(atime):\n",
        "    \"\"\"\n",
        "    Convert atime (a float) to a datetime\n",
        "    assert datetime_to_float(float_to_datetime(atime)) == atime\n",
        "\n",
        "    # Need: import datetime as DT\n",
        "\n",
        "    https://stackoverflow.com/questions/19305991/convert-fractional-years-to-a-real-date-in-python\n",
        "    \"\"\"\n",
        "\n",
        "    year = int(atime)\n",
        "    remainder = atime - year\n",
        "    boy = DT.datetime(year, 1, 1)\n",
        "    eoy = DT.datetime(year + 1, 1, 1)\n",
        "    seconds = remainder * (eoy - boy).total_seconds()\n",
        "    return boy + DT.timedelta(seconds=seconds)"
      ],
      "execution_count": 10,
      "outputs": []
    },
    {
      "cell_type": "markdown",
      "metadata": {
        "id": "w0oK4b09JlmD"
      },
      "source": [
        "### Scrippsco2: Add 3 titles to plot"
      ]
    },
    {
      "cell_type": "code",
      "metadata": {
        "id": "sBTGGq73OhfI"
      },
      "source": [
        "def add_3_plot_titles(fig, ax, title1, title2, title3):\n",
        "\n",
        "    # Allow room at top for the 3 titles\n",
        "    fig.subplots_adjust(top=0.85)\n",
        "\n",
        "    # Set font properties\n",
        "    rcParams.update({\n",
        "      'font.family':'sans-serif',\n",
        "      'font.weight':'bold',\n",
        "      'font.sans-serif':['Liberation Sans', 'DejaVu Sans']\n",
        "    })\n",
        "\n",
        "    # position titles above plot\n",
        "    ax.annotate(title1, xy=(0, 1.15), xycoords='axes fraction', fontsize=21,\n",
        "                horizontalalignment='left', verticalalignment='top')\n",
        "    ax.annotate(title2, xy=(0, 1.095), xycoords='axes fraction', fontsize=21,\n",
        "                horizontalalignment='left', verticalalignment='top')\n",
        "    ax.annotate(title3, xy=(0, 1.04), xycoords='axes fraction', fontsize=12, fontweight='normal',\n",
        "                horizontalalignment='left', verticalalignment='top')"
      ],
      "execution_count": null,
      "outputs": []
    },
    {
      "cell_type": "markdown",
      "metadata": {
        "id": "CwYGc-IWOglb"
      },
      "source": [
        "### Scrippsco2: Set axis and tick properties"
      ]
    },
    {
      "cell_type": "code",
      "metadata": {
        "id": "Wc_l0LJpLemi"
      },
      "source": [
        "def set_axis_tick_props(fig, ax, xmin, xmax, ymin, ymax):\n",
        "\n",
        "    # activate latex text rendering\n",
        "    rc('axes', linewidth=1)\n",
        "\n",
        "    ax.set_xlim(xmin, xmax)\n",
        "    ax.set_ylim(ymin, ymax)\n",
        "    \n",
        "    # Set tick labels font\n",
        "    rcParams.update({\n",
        "      'font.family':'sans-serif',\n",
        "      'font.weight':'bold',\n",
        "      'font.sans-serif':['Liberation Sans', 'DejaVu Sans']\n",
        "    })\n",
        "        \n",
        "    ax.tick_params(which='both', bottom=True, top=True, left=True, right=True)\n",
        "\n",
        "    ax.tick_params(axis='x', labelsize=14)\n",
        "    ax.tick_params(axis='y', labelsize=16)\n",
        "\n",
        "    ax.tick_params(which='major', direction='in', length=9, width=1)\n",
        "\n",
        "    xaxis_tick_spacing = 5\n",
        "    ax.xaxis.set_major_locator(ticker.MultipleLocator(xaxis_tick_spacing))\n",
        "\n",
        "    yaxis_tick_spacing = 5\n",
        "    ax.yaxis.set_major_locator(ticker.MultipleLocator(yaxis_tick_spacing))\n",
        "\n",
        "    # Display every other y major tick label\n",
        "    for label in ax.yaxis.get_ticklabels()[::2]:\n",
        "        label.set_visible(False)\n",
        "\n",
        "    ax.tick_params(which='minor', direction='in', length=4)\n",
        "    ax.xaxis.set_minor_locator(ticker.AutoMinorLocator(5))\n",
        "    ax.yaxis.set_minor_locator(ticker.AutoMinorLocator(5))"
      ],
      "execution_count": null,
      "outputs": []
    },
    {
      "cell_type": "code",
      "metadata": {
        "id": "XhHmNXaTL1mq"
      },
      "source": [
        ""
      ],
      "execution_count": null,
      "outputs": []
    }
  ]
}